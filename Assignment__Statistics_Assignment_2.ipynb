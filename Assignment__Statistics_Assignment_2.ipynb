{
  "nbformat": 4,
  "nbformat_minor": 0,
  "metadata": {
    "colab": {
      "provenance": []
    },
    "kernelspec": {
      "name": "python3",
      "display_name": "Python 3"
    },
    "language_info": {
      "name": "python"
    }
  },
  "cells": [
    {
      "cell_type": "markdown",
      "source": [
        "# **Statistics Practice Questions and Answer**"
      ],
      "metadata": {
        "id": "j2DtZ2bQifDj"
      }
    },
    {
      "cell_type": "code",
      "source": [
        "# Import important libraries :-\n",
        "\n",
        "import numpy as np\n",
        "\n",
        "import random\n",
        "\n",
        "from collections import Counter\n",
        "\n",
        "from scipy import stats\n",
        "\n",
        "import pandas as pd\n",
        "\n",
        "import matplotlib.pyplot as plt\n",
        "\n",
        "import seaborn as sns"
      ],
      "metadata": {
        "id": "bAwfBH7pkKAk"
      },
      "execution_count": 1,
      "outputs": []
    },
    {
      "cell_type": "markdown",
      "source": [
        "### Q1 :- Generate a list of 100 integers containing values between 90 to 130 and store it in the variable 'int_list'. After generating the list, find the following :-\n",
        "\n",
        "  \n",
        "\n",
        "(i) Write a Python function to calculate the mean of a given list of numbers.\n",
        "Create a function to find the median of a list of numbers.\n",
        "\n",
        "  \n",
        "(ii) Develop a program to compute the mode of a list of integers.\n",
        "\n",
        "  \n",
        "(iii) Implement a function to calculate the weighted mean of a list of values and their corresponding weights.\n",
        "\n",
        "  \n",
        "(iv) Write a Python function to find the geometric mean of a list of positive numbers.\n",
        "\n",
        "  \n",
        "(v) Create a program to calculate the harmonic mean of a list of values.\n",
        "\n",
        "  \n",
        "(vi) Build a function to determine the midrange of a list of numbers (average of the minimum and maximum).\n",
        "\n",
        "  \n",
        "(vii) Implement a Python program to find the trimmed mean of a list, excluding a certain percentage of outliers."
      ],
      "metadata": {
        "id": "7wXDdT0zie3Z"
      }
    },
    {
      "cell_type": "markdown",
      "source": [
        "## Answer :-\n",
        "\n",
        "### Creating a integer list 'int_list' of 100 containing the values between 90 to 130"
      ],
      "metadata": {
        "id": "UlladxIajRQQ"
      }
    },
    {
      "cell_type": "code",
      "execution_count": null,
      "metadata": {
        "id": "yEwzzkPhhDeF"
      },
      "outputs": [],
      "source": [
        "# Integer list 'int_list' of 100 containing the values between 90 to 130\n",
        "\n",
        "# Here, tolist() will help to convert the result to a list.\n",
        "\n",
        "int_list = np.random.randint(90, 131, size=100).tolist()"
      ]
    },
    {
      "cell_type": "markdown",
      "source": [
        "### (i) Write a Python function to calculate the mean of a given list of numbers. Create a function to find the median of a list of numbers."
      ],
      "metadata": {
        "id": "2vyoRJmPjXoH"
      }
    },
    {
      "cell_type": "code",
      "source": [
        "# Calculate the Mean of the given list of numbers with the help of 'def' :\n",
        "\n",
        "def calculate_mean(numbers):\n",
        "    return np.mean(numbers)"
      ],
      "metadata": {
        "id": "iGKxc_iDlVRn"
      },
      "execution_count": null,
      "outputs": []
    },
    {
      "cell_type": "code",
      "source": [
        "# Creating a function to find the Median of a list of numbers :\n",
        "\n",
        "def calculate_median(numbers):\n",
        "    return np.median(numbers)"
      ],
      "metadata": {
        "id": "j06kp9qxmVo0"
      },
      "execution_count": null,
      "outputs": []
    },
    {
      "cell_type": "markdown",
      "source": [
        "### (ii) Develop a program to compute the mode of a list of integers."
      ],
      "metadata": {
        "id": "tDCe0Pf_TpJy"
      }
    },
    {
      "cell_type": "code",
      "source": [
        "# Calculate Mode of a list of integers :-\n",
        "\n",
        "def calculate_mode(numbers):\n",
        "    mode_result = stats.mode(numbers)\n",
        "    # Check if mode_result.mode is an array before indexing\n",
        "    return mode_result.mode if isinstance(mode_result.mode, np.ndarray) else mode_result.mode, \\\n",
        "           mode_result.count if isinstance(mode_result.count, np.ndarray) else mode_result.count"
      ],
      "metadata": {
        "id": "dqJyyXQ2TiWa"
      },
      "execution_count": null,
      "outputs": []
    },
    {
      "cell_type": "markdown",
      "source": [
        "### (iii) Implement a function to calculate the weighted mean of a list of values and their corresponding weights."
      ],
      "metadata": {
        "id": "LvzhqnJ3da4m"
      }
    },
    {
      "cell_type": "code",
      "source": [
        "# Calculate the weighted mean :\n",
        "\n",
        "def calculate_weighted_mean(values, weights):\n",
        "    return np.average(values, weights=weights)"
      ],
      "metadata": {
        "id": "C07gvg5aT3p0"
      },
      "execution_count": null,
      "outputs": []
    },
    {
      "cell_type": "markdown",
      "source": [
        "### (iv) Write a Python function to find the geometric mean of a list of positive numbers."
      ],
      "metadata": {
        "id": "O0aIIOYQMkR2"
      }
    },
    {
      "cell_type": "code",
      "source": [
        "# Calculate and create def function to find the Geometric Mean :-\n",
        "\n",
        "def calculate_geometric_mean(numbers):\n",
        "    return stats.gmean(numbers)"
      ],
      "metadata": {
        "id": "CrjBTES1dZtt"
      },
      "execution_count": null,
      "outputs": []
    },
    {
      "cell_type": "markdown",
      "source": [
        "### (v) Create a program to calculate the harmonic mean of a list of values."
      ],
      "metadata": {
        "id": "kC4OT1MrM90k"
      }
    },
    {
      "cell_type": "code",
      "source": [
        "# def Function to Calculate the Harmonic Mean :-\n",
        "\n",
        "def calculate_harmonic_mean(numbers):\n",
        "    return stats.hmean(numbers)"
      ],
      "metadata": {
        "id": "qYvlj6zoM-mV"
      },
      "execution_count": null,
      "outputs": []
    },
    {
      "cell_type": "markdown",
      "source": [
        "### (vi) Build a function to determine the midrange of a list of numbers (average of the minimum and maximum)."
      ],
      "metadata": {
        "id": "PEEC04_MNNaU"
      }
    },
    {
      "cell_type": "code",
      "source": [
        "# def Function to determine the midrange of a list of numbers :-\n",
        "\n",
        "def calculate_midrange(numbers):\n",
        "    return (np.min(numbers) + np.max(numbers)) / 2"
      ],
      "metadata": {
        "id": "kXV3uBHKNFHZ"
      },
      "execution_count": null,
      "outputs": []
    },
    {
      "cell_type": "markdown",
      "source": [
        "### (vii) Implement a Python program to find the trimmed mean of a list, excluding a certain percentage of outliers.\n"
      ],
      "metadata": {
        "id": "WhKaV1OzNTQA"
      }
    },
    {
      "cell_type": "code",
      "source": [
        "# def Function to find the trimmed mean of a list :-\n",
        "\n",
        "def calculate_trimmed_mean(numbers, trim_percent):\n",
        "    return stats.trim_mean(numbers, proportiontocut = trim_percent)"
      ],
      "metadata": {
        "id": "DVIlNFLzNT0f"
      },
      "execution_count": null,
      "outputs": []
    },
    {
      "cell_type": "code",
      "source": [
        "# Using the functions :\n",
        "\n",
        "mean_value = calculate_mean(int_list)\n",
        "median_value = calculate_median(int_list)\n",
        "mode_value, mode_count = calculate_mode(int_list)"
      ],
      "metadata": {
        "id": "vjgINR-nNuFn"
      },
      "execution_count": null,
      "outputs": []
    },
    {
      "cell_type": "code",
      "source": [
        "# Example of weights for weighted mean (for the first 10 numbers)\n",
        "weights = [1, 2, 1, 2, 1, 2, 2, 2, 1, 2]\n",
        "weighted_mean_value = calculate_weighted_mean(int_list[:10], weights)\n",
        "geometric_mean_value = calculate_geometric_mean([num for num in int_list if num > 0])\n",
        "harmonic_mean_value = calculate_harmonic_mean(int_list)\n",
        "midrange_value = calculate_midrange(int_list)\n",
        "trimmed_mean_value = calculate_trimmed_mean(int_list, 0.1)  # Trim 10% from both ends\n",
        "\n",
        "\n",
        "# Print the results\n",
        "print(\"List of integers:\", int_list)\n",
        "print(\"Mean:\", mean_value)\n",
        "print(\"Median:\", median_value)\n",
        "print(\"Mode:\", mode_value, \"(Count:\", mode_count, \")\")\n",
        "print(\"Weighted Mean:\", weighted_mean_value)\n",
        "print(\"Geometric Mean:\", geometric_mean_value)\n",
        "print(\"Harmonic Mean:\", harmonic_mean_value)\n",
        "print(\"Midrange:\", midrange_value)\n",
        "print(\"Trimmed Mean (10%):\", trimmed_mean_value)"
      ],
      "metadata": {
        "colab": {
          "base_uri": "https://localhost:8080/"
        },
        "id": "n57gvn7VN3OO",
        "outputId": "e584dc3b-a51e-48a2-94b9-8a0431083709"
      },
      "execution_count": null,
      "outputs": [
        {
          "output_type": "stream",
          "name": "stdout",
          "text": [
            "List of integers: [124, 95, 124, 90, 105, 103, 124, 112, 97, 128, 92, 108, 101, 118, 112, 93, 104, 103, 101, 110, 115, 103, 117, 94, 121, 109, 105, 120, 99, 130, 93, 121, 105, 129, 103, 127, 115, 124, 94, 128, 95, 124, 117, 104, 96, 91, 91, 109, 92, 95, 120, 115, 105, 104, 106, 111, 122, 94, 128, 103, 124, 105, 104, 121, 107, 110, 128, 94, 123, 93, 130, 112, 126, 105, 91, 111, 92, 127, 128, 98, 121, 109, 93, 107, 109, 119, 101, 127, 122, 93, 97, 129, 93, 98, 94, 124, 130, 96, 127, 116]\n",
            "Mean: 109.52\n",
            "Median: 108.5\n",
            "Mode: 124 (Count: 7 )\n",
            "Weighted Mean: 109.625\n",
            "Geometric Mean: 108.79375505439587\n",
            "Harmonic Mean: 108.07209285415088\n",
            "Midrange: 110.0\n",
            "Trimmed Mean (10%): 109.325\n"
          ]
        }
      ]
    },
    {
      "cell_type": "markdown",
      "source": [
        "### Q2:- Generate a list of 500 integers containing values between 200 to 300 and store it in the variable 'int_list2'. After generating the list, find the following :-\n",
        "\n",
        "(i) Compare the given list of visualization for the given data:\n",
        "\n",
        "  1. Frequency & Gaussian distribution\n",
        "  2. Frequency smoothened KDE plot\n",
        "  3. Gaussian distribution & smoothened KDE plot\n",
        "\n",
        "\n",
        "(ii) Write a Python function to calculate the range of a given list of numbers.\n",
        "\n",
        "(iii) Create a program to find the variance and standard deviation of a list of numbers.\n",
        "\n",
        "(iv) Implement a function to compute the interquartile range (IQR) of a list of values.\n",
        "\n",
        "(v) Build a program to calculate the coefficient of variation for a dataset.\n",
        "\n",
        "(vi) Write a Python function to find the mean absolute deviation (MAD) of a list of numbers.\n",
        "\n",
        "(vii) Create a program to calculate the quartile deviation of a list of values.\n",
        "\n",
        "(viii) Implement a function to find the range-based coefficient of dispersion for a dataset."
      ],
      "metadata": {
        "id": "Yb4wiN48ohNe"
      }
    },
    {
      "cell_type": "markdown",
      "source": [
        "## Answer :-\n",
        "\n",
        "### Generated a list of 500 integers containing values between 200 to 300 and store it in the variable 'int_list2'."
      ],
      "metadata": {
        "id": "-lo1MqsonQU0"
      }
    },
    {
      "cell_type": "code",
      "source": [
        "# Import needed libraries:\n",
        "\n",
        "import matplotlib.pyplot as plt\n",
        "import seaborn as sns"
      ],
      "metadata": {
        "id": "HSGk9WhnO4wb"
      },
      "execution_count": null,
      "outputs": []
    },
    {
      "cell_type": "code",
      "source": [
        "# Generate a list with variable name 'int_list2' :\n",
        "\n",
        "int_list2 = np.random.randint(200, 301, size = 500).tolist()"
      ],
      "metadata": {
        "id": "cnuprSPmnPj9"
      },
      "execution_count": null,
      "outputs": []
    },
    {
      "cell_type": "markdown",
      "source": [
        "### (i) Compare the given list of visualization for the given data:\n",
        "\n",
        "  1. Frequency & Gaussian distribution\n",
        "  2. Frequency smoothened KDE plot\n",
        "  3. Gaussian distribution & smoothened KDE plot"
      ],
      "metadata": {
        "id": "cNVlkMbRoFIC"
      }
    },
    {
      "cell_type": "code",
      "source": [
        "# 1. Frequency & Gaussian distribution :\n",
        "\n",
        "# Plotting figure :\n",
        "plt.figure(figsize=(14, 6))\n",
        "\n",
        "\n",
        "# Created a Histogram :\n",
        "plt.subplot(1, 2, 1)\n",
        "plt.hist(int_list2, bins=20, density=True, alpha=0.5, color='b', label='Frequency')\n",
        "plt.title('Frequency Distribution')\n",
        "plt.xlabel('Value')\n",
        "plt.ylabel('Density')\n",
        "\n",
        "\n",
        "# Gaussian Distribution :\n",
        "mu, std = np.mean(int_list2), np.std(int_list2)\n",
        "xmin, xmax = plt.xlim()\n",
        "x = np.linspace(xmin, xmax, 100)\n",
        "p = np.exp(-((x - mu) ** 2) / (2 * std ** 2)) / (std * np.sqrt(2 * np.pi))\n",
        "plt.plot(x, p, 'k', linewidth=2, label='Gaussian Distribution')\n",
        "plt.legend()\n",
        "plt.show()\n"
      ],
      "metadata": {
        "colab": {
          "base_uri": "https://localhost:8080/",
          "height": 564
        },
        "id": "96YL_idnn6eV",
        "outputId": "fd407146-72eb-4f22-a5e6-d5b1e45cb625"
      },
      "execution_count": null,
      "outputs": [
        {
          "output_type": "display_data",
          "data": {
            "text/plain": [
              "<Figure size 1400x600 with 1 Axes>"
            ],
            "image/png": "[encoded data removed]"
          },
          "metadata": {}
        }
      ]
    },
    {
      "cell_type": "code",
      "source": [
        "# Smoothened KDE plot :\n",
        "\n",
        "plt.figure(figsize=(14, 6))\n",
        "sns.kdeplot(int_list2, bw_adjust=0.5, fill=True, color='orange')\n",
        "plt.title('KDE Plot')\n",
        "plt.xlabel('Value')\n",
        "plt.ylabel('Density')\n",
        "plt.show()\n"
      ],
      "metadata": {
        "colab": {
          "base_uri": "https://localhost:8080/",
          "height": 556
        },
        "id": "jYTvqizto4ii",
        "outputId": "69edfbfa-d11a-4f83-e92d-513ecc802f30"
      },
      "execution_count": null,
      "outputs": [
        {
          "output_type": "display_data",
          "data": {
            "text/plain": [
              "<Figure size 1400x600 with 1 Axes>"
            ],
            "image/png": "[encoded data removed]"
          },
          "metadata": {}
        }
      ]
    },
    {
      "cell_type": "markdown",
      "source": [
        "### (ii) Write a Python function to calculate the range of a given list of numbers."
      ],
      "metadata": {
        "id": "Yv9vlCxgqHbo"
      }
    },
    {
      "cell_type": "code",
      "source": [
        "# Calculate the Range with def function :\n",
        "\n",
        "def calculate_range(data):\n",
        "    return max(data) - min(data)\n",
        "\n",
        "data_range = calculate_range(int_list2)\n",
        "print(\"Range:\", data_range)"
      ],
      "metadata": {
        "colab": {
          "base_uri": "https://localhost:8080/"
        },
        "id": "iX79cCYfpoXV",
        "outputId": "2d98d2d6-1f01-4ea4-b639-6d093fc9c658"
      },
      "execution_count": null,
      "outputs": [
        {
          "output_type": "stream",
          "name": "stdout",
          "text": [
            "Range: 100\n"
          ]
        }
      ]
    },
    {
      "cell_type": "markdown",
      "source": [
        "### (iii) Create a program to find the variance and standard deviation of a list of numbers."
      ],
      "metadata": {
        "id": "Ow6U5lHRr98V"
      }
    },
    {
      "cell_type": "code",
      "source": [
        "# Created a def fuction to get the variance and standard deviation :\n",
        "\n",
        "def variance_and_std(data):\n",
        "    variance = np.var(data)\n",
        "    std_dev = np.std(data)\n",
        "    return variance, std_dev\n",
        "\n",
        "var, std = variance_and_std(int_list2)\n",
        "print(\"Variance:\", var)\n",
        "print(\"Standard Deviation:\", std)\n"
      ],
      "metadata": {
        "colab": {
          "base_uri": "https://localhost:8080/"
        },
        "id": "uym5RzcWqD2g",
        "outputId": "78c907b3-b17c-4313-fc3b-5ddf28155fb5"
      },
      "execution_count": null,
      "outputs": [
        {
          "output_type": "stream",
          "name": "stdout",
          "text": [
            "Variance: 856.125936\n",
            "Standard Deviation: 29.259629799435263\n"
          ]
        }
      ]
    },
    {
      "cell_type": "markdown",
      "source": [
        "### (iv) Implement a function to compute the interquartile range (IQR) of a list of values."
      ],
      "metadata": {
        "id": "7yHqbbpXsSPv"
      }
    },
    {
      "cell_type": "code",
      "source": [
        "# Created a def function to find the IQR of a list :\n",
        "\n",
        "def interquartile_range(data):\n",
        "    q75, q25 = np.percentile(data, [75, 25])\n",
        "    return q75 - q25\n",
        "\n",
        "iqr = interquartile_range(int_list2)\n",
        "print(\"Interquartile Range (IQR):\", iqr)"
      ],
      "metadata": {
        "colab": {
          "base_uri": "https://localhost:8080/"
        },
        "id": "8Y365H8KsBaT",
        "outputId": "266128ea-ce22-409b-a28d-4ef5f0c2987a"
      },
      "execution_count": null,
      "outputs": [
        {
          "output_type": "stream",
          "name": "stdout",
          "text": [
            "Interquartile Range (IQR): 51.0\n"
          ]
        }
      ]
    },
    {
      "cell_type": "markdown",
      "source": [
        "### (v) Build a program to calculate the coefficient of variation for a dataset."
      ],
      "metadata": {
        "id": "dbx5rO2cspkW"
      }
    },
    {
      "cell_type": "code",
      "source": [
        "# Created a def function to find the coefficient of variation :\n",
        "\n",
        "def coefficient_of_variation(data):\n",
        "    mean = np.mean(data)\n",
        "    std_dev = np.std(data)\n",
        "    return (std_dev / mean) * 100  # to show as a percentage\n",
        "\n",
        "cv = coefficient_of_variation(int_list2)\n",
        "print(\"Coefficient of Variation (%):\", cv)\n"
      ],
      "metadata": {
        "colab": {
          "base_uri": "https://localhost:8080/"
        },
        "id": "tiUfbuDcscUe",
        "outputId": "cb6e5569-37fb-4e79-a400-2db88ae707e2"
      },
      "execution_count": null,
      "outputs": [
        {
          "output_type": "stream",
          "name": "stdout",
          "text": [
            "Coefficient of Variation (%): 11.774119867141202\n"
          ]
        }
      ]
    },
    {
      "cell_type": "markdown",
      "source": [
        "### (vi) Write a Python function to find the mean absolute deviation (MAD) of a list of numbers."
      ],
      "metadata": {
        "id": "bgXsukCYtCo6"
      }
    },
    {
      "cell_type": "code",
      "source": [
        "# Created a def function to find the mean absolute deviation (MAD) :\n",
        "\n",
        "def mean_absolute_deviation(data):\n",
        "    return np.mean(np.abs(data - np.mean(data)))\n",
        "\n",
        "mad = mean_absolute_deviation(int_list2)\n",
        "print(\"Mean Absolute Deviation (MAD):\", mad)\n"
      ],
      "metadata": {
        "colab": {
          "base_uri": "https://localhost:8080/"
        },
        "id": "qoNKtA2Ks6pB",
        "outputId": "5382c3b3-3e71-44ec-ce94-801662ea4fa7"
      },
      "execution_count": null,
      "outputs": [
        {
          "output_type": "stream",
          "name": "stdout",
          "text": [
            "Mean Absolute Deviation (MAD): 25.234032\n"
          ]
        }
      ]
    },
    {
      "cell_type": "markdown",
      "source": [
        "### (vii) Create a program to calculate the quartile deviation of a list of values."
      ],
      "metadata": {
        "id": "x-ev6omGtNCY"
      }
    },
    {
      "cell_type": "code",
      "source": [
        "# Created a def function to find the quartile deviation :\n",
        "\n",
        "def quartile_deviation(data):\n",
        "    q75, q25 = np.percentile(data, [75, 25])\n",
        "    return (q75 - q25) / 2\n",
        "\n",
        "qd = quartile_deviation(int_list2)\n",
        "print(\"Quartile Deviation:\", qd)\n"
      ],
      "metadata": {
        "colab": {
          "base_uri": "https://localhost:8080/"
        },
        "id": "bg52YeCds-Cl",
        "outputId": "4ddade7c-5bf7-4213-acb3-e4403e1c859c"
      },
      "execution_count": null,
      "outputs": [
        {
          "output_type": "stream",
          "name": "stdout",
          "text": [
            "Quartile Deviation: 25.5\n"
          ]
        }
      ]
    },
    {
      "cell_type": "markdown",
      "source": [
        "### (viii) Implement a function to find the range-based coefficient of dispersion for a dataset."
      ],
      "metadata": {
        "id": "aM0bLLlbtTOn"
      }
    },
    {
      "cell_type": "code",
      "source": [
        "# Created a def function to find the range-based coefficient of dispersion :\n",
        "\n",
        "def range_based_coefficient_of_dispersion(data):\n",
        "    data_range = calculate_range(data)\n",
        "    mean = np.mean(data)\n",
        "    return (data_range / mean) * 100  # As a percentage\n",
        "\n",
        "rbc_dispersion = range_based_coefficient_of_dispersion(int_list2)\n",
        "print(\"Range-Based Coefficient of Dispersion (%):\", rbc_dispersion)\n"
      ],
      "metadata": {
        "colab": {
          "base_uri": "https://localhost:8080/"
        },
        "id": "_r0uUOuItTy4",
        "outputId": "a8687271-fb4d-4a15-b1f5-82c1611a63ba"
      },
      "execution_count": null,
      "outputs": [
        {
          "output_type": "stream",
          "name": "stdout",
          "text": [
            "Range-Based Coefficient of Dispersion (%): 40.240153234503516\n"
          ]
        }
      ]
    },
    {
      "cell_type": "markdown",
      "source": [
        "### Q3 :- Write a Python class representing a discrete random variable with methods to calculate its expected value and variance."
      ],
      "metadata": {
        "id": "FKrrBB3Wuxi7"
      }
    },
    {
      "cell_type": "markdown",
      "source": [
        "## Answer :-"
      ],
      "metadata": {
        "id": "Q-eRi6ACUf32"
      }
    },
    {
      "cell_type": "code",
      "source": [
        "# Created a class of 'DiscreteRandomVariable' and use '__init__' :\n",
        "\n",
        "class DiscreteRandomVariable:\n",
        "    def __init__(self, values, probabilities):\n",
        "        if len(values) != len(probabilities):\n",
        "            raise ValueError(\"Values and probabilities must be of the same length.\")\n",
        "        if not np.isclose(sum(probabilities), 1):\n",
        "            raise ValueError(\"Probabilities must sum to 1.\")\n",
        "        self.values = np.array(values)\n",
        "        self.probabilities = np.array(probabilities)\n",
        "\n",
        "    def expected_value(self):\n",
        "        # Here calculated the expected value (mean) of the random variable.\n",
        "        return np.sum(self.values * self.probabilities)\n",
        "\n",
        "    def variance(self):\n",
        "        # Here calculate the variance of the random variable.\n",
        "        mean = self.expected_value()\n",
        "        return np.sum(self.probabilities * (self.values - mean) ** 2)\n"
      ],
      "metadata": {
        "id": "3G8lZmnuuWnc"
      },
      "execution_count": 2,
      "outputs": []
    },
    {
      "cell_type": "code",
      "source": [
        "# Usage :\n",
        "\n",
        "if __name__ == \"__main__\":\n",
        "    values = [0, 1, 2, 3, 4]\n",
        "    probabilities = [0.1, 0.2, 0.3, 0.25, 0.15]\n",
        "\n",
        "    rv = DiscreteRandomVariable(values, probabilities)\n",
        "\n",
        "    print(\"Expected Value:\", rv.expected_value())\n",
        "    print(\"Variance:\", rv.variance())\n"
      ],
      "metadata": {
        "colab": {
          "base_uri": "https://localhost:8080/"
        },
        "id": "j7m1JmIwT2yQ",
        "outputId": "e4c051e5-4f3a-4255-9ffc-d65f912ac001"
      },
      "execution_count": 3,
      "outputs": [
        {
          "output_type": "stream",
          "name": "stdout",
          "text": [
            "Expected Value: 2.15\n",
            "Variance: 1.4275000000000002\n"
          ]
        }
      ]
    },
    {
      "cell_type": "markdown",
      "source": [
        "### Q4 :-  Implement a program to simulate the rolling of a fair six-sided dice and calculate the expected value and variance of the outcomes."
      ],
      "metadata": {
        "id": "euaT7DmBUiph"
      }
    },
    {
      "cell_type": "markdown",
      "source": [
        "## Answer :-\n",
        "\n",
        "### Here, To simulate the rolling of a fair six-sided dice and calculate the expected value and variance of the outcomes, you can follow below mention steps :-\n",
        "\n",
        "- **1st step :-** Simulate Rolling the Dice by generating random integers between 1 and 6.\n",
        "\n",
        "- **2nd step :-** Calculate the Expected Value, The expected value E(X) for a fair diCe is calculated using the formula:\n",
        "\n",
        "Expected(X) = Sigma(xi.P(xi))\n",
        "\n",
        "For a fair six-sided die, each outcome has a probability of 1/6, Thus the expected value is ===> 1/6(1+2+3+4+5+6) ===> 21/6 ===> 3.5\n",
        "\n",
        "- **3rd step :-** Calculate the Variance, The variance Var(X) is calculated using the formula:\n",
        "\n",
        "Var(X) = E(X square) - (E(X))square\n",
        "\n",
        "first Calculate E(X square) ===> Sigma(xi square . P(xi)) ===> 1/6(1square + 2square + 3square + 4square + 5square + 6square) ===> 91/6\n",
        "\n",
        "Now, Calculate into the variance formula:\n",
        "\n",
        "Var(X) = 91/6 - (3.5)square ===> 91/6 - 49/4 ===> Now, get a common denominator (12) ===> 182/12 - 147/12 ===> 35/12 ===> 2.9167\n",
        "\n",
        "- **Final Result :-** Expected Value = 3.5 and Variance: 2.9167\n",
        "\n",
        "\n",
        "### Now will implementing this in code :-"
      ],
      "metadata": {
        "id": "3vpLraRhWNrG"
      }
    },
    {
      "cell_type": "code",
      "source": [
        "# Number of simulations, let's assume n_rolls = 10000 :\n",
        "n_rolls = 10000\n",
        "\n",
        "# Simulate rolling a dice :\n",
        "rolls = np.random.randint(1, 7, n_rolls)\n",
        "\n",
        "# Calculate expected value :\n",
        "expected_value = np.mean(rolls)\n",
        "\n",
        "# Calculate variance :\n",
        "variance = np.var(rolls)\n",
        "\n",
        "# Show the result :\n",
        "print(f\"Expected Value: {expected_value}\")\n",
        "print(f\"Variance: {variance}\")\n"
      ],
      "metadata": {
        "id": "4SM4t3u-vkpU",
        "colab": {
          "base_uri": "https://localhost:8080/"
        },
        "outputId": "e558bb53-8597-4af2-abe6-f7bf56cd56ed"
      },
      "execution_count": 4,
      "outputs": [
        {
          "output_type": "stream",
          "name": "stdout",
          "text": [
            "Expected Value: 3.5019\n",
            "Variance: 2.92039639\n"
          ]
        }
      ]
    },
    {
      "cell_type": "markdown",
      "source": [
        "### Q5 :- Create a Python function to generate random samples from a given probability distribution (e.g.,binomial, Poisson) and calculate their mean and variance."
      ],
      "metadata": {
        "id": "OtnGBGGQcvy8"
      }
    },
    {
      "cell_type": "markdown",
      "source": [
        "## Answer :-"
      ],
      "metadata": {
        "id": "elYFEdiodCLa"
      }
    },
    {
      "cell_type": "code",
      "source": [
        "\"\"\"\n",
        "Generate random samples from a specified probability distribution and calculate their mean and variance.\n",
        "Parameters: 1) distribution: str, the name of the distribution ('binomial', 'poisson').\n",
        "            2) params: tuple, parameters for the distribution.\n",
        "                    - For 'binomial': (n, p)\n",
        "                    - For 'poisson': (lambda)\n",
        "            3) sample_size: int, 1000 number of samples to generate.\n",
        "\n",
        "Returns:- mean: float, mean of the generated samples.\n",
        "        - variance: float, variance of the generated samples.\n",
        "\"\"\"\n",
        "\n",
        "def generate_samples(distribution, params, sample_size = 1000):\n",
        "\n",
        "\n",
        "    if distribution == 'binomial':\n",
        "        n, p = params\n",
        "        samples = np.random.binomial(n, p, sample_size)\n",
        "    elif distribution == 'poisson':\n",
        "        lambda_ = params[0]\n",
        "        samples = np.random.poisson(lambda_, sample_size)\n",
        "    else:\n",
        "        raise ValueError(\"Unsupported distribution. Use 'binomial' or 'poisson'.\")\n",
        "\n",
        "    mean = np.mean(samples)\n",
        "    variance = np.var(samples)\n",
        "\n",
        "    return mean, variance\n"
      ],
      "metadata": {
        "id": "0R3BWVwyWqI6"
      },
      "execution_count": 5,
      "outputs": []
    },
    {
      "cell_type": "code",
      "source": [
        "# Usage:\n",
        "\n",
        "if __name__ == \"__main__\":\n",
        "    # Generate samples from a Binomial distribution with n = 10, p = 0.5 :\n",
        "    binomial_mean, binomial_variance = generate_samples('binomial', (10, 0.5), sample_size=10000)\n",
        "    print(f\"Binomial Distribution: Mean = {binomial_mean}, Variance = {binomial_variance}\")\n",
        "\n",
        "    # Generate samples from a Poisson distribution with lambda = 5 :\n",
        "    poisson_mean, poisson_variance = generate_samples('poisson', (5,), sample_size=10000)\n",
        "    print(f\"Poisson Distribution: Mean = {poisson_mean}, Variance = {poisson_variance}\")"
      ],
      "metadata": {
        "colab": {
          "base_uri": "https://localhost:8080/"
        },
        "id": "yM1piDpweT6y",
        "outputId": "34221af1-5213-437a-b864-3cfbd5381c32"
      },
      "execution_count": 6,
      "outputs": [
        {
          "output_type": "stream",
          "name": "stdout",
          "text": [
            "Binomial Distribution: Mean = 4.9743, Variance = 2.5368395099999996\n",
            "Poisson Distribution: Mean = 4.9706, Variance = 5.07033564\n"
          ]
        }
      ]
    },
    {
      "cell_type": "markdown",
      "source": [
        "### Q6 :- Write a Python script to generate random numbers from a Gaussian (normal) distribution and compute the mean, variance, and standard deviation of the samples."
      ],
      "metadata": {
        "id": "Blb1YSiVetdl"
      }
    },
    {
      "cell_type": "markdown",
      "source": [
        "## Answer :-"
      ],
      "metadata": {
        "id": "TilmOED2e_Ht"
      }
    },
    {
      "cell_type": "code",
      "source": [
        "\"\"\"\n",
        "Generated random samples from a Gaussian (normal) distribution and computing the mean,variance and std dev.\n",
        "\n",
        "Parameters: - mean: float, the mean of the Gaussian distribution.\n",
        "            - std_dev: float, the standard deviation of the Gaussian distribution.\n",
        "            - sample_size: int, 1000 number of samples to generate.\n",
        "\n",
        "Returns: - mean_samples: float, mean of the generated samples.\n",
        "         - variance_samples: float, variance of the generated samples.\n",
        "         - std_dev_samples: float, standard deviation of the generated samples.\n",
        "\"\"\"\n",
        "\n",
        "\n",
        "def generate_gaussian_samples(mean, std_dev, sample_size = 1000):\n",
        "\n",
        "    # Generate random samples from a normal distribution\n",
        "    samples = np.random.normal(mean, std_dev, sample_size)\n",
        "\n",
        "    # Calculate statistics\n",
        "    mean_samples = np.mean(samples)\n",
        "    variance_samples = np.var(samples)\n",
        "    std_dev_samples = np.std(samples)\n",
        "\n",
        "    return mean_samples, variance_samples, std_dev_samples\n",
        "\n",
        "# Usage :-\n",
        "if __name__ == \"__main__\":\n",
        "    # The parameters for the Gaussian distribution :-\n",
        "    mean = 0        # Mean\n",
        "    std_dev = 1    # Standard deviation\n",
        "    sample_size = 1000  # Number of samples to generate\n",
        "\n",
        "    # Generate samples and compute mean,std dev, variance :\n",
        "    mean_samples, variance_samples, std_dev_samples = generate_gaussian_samples(mean, std_dev, sample_size)\n",
        "\n",
        "    # show the results :\n",
        "    print(f\"Mean of samples: {mean_samples:.2f}\")\n",
        "    print(f\"Variance of samples: {variance_samples:.2f}\")\n",
        "    print(f\"Standard Deviation of samples: {std_dev_samples:.2f}\")"
      ],
      "metadata": {
        "colab": {
          "base_uri": "https://localhost:8080/"
        },
        "id": "quZVm-8deXHq",
        "outputId": "102c6d42-0283-43cd-ce42-70d89cf0aa37"
      },
      "execution_count": 8,
      "outputs": [
        {
          "output_type": "stream",
          "name": "stdout",
          "text": [
            "Mean of samples: -0.06\n",
            "Variance of samples: 0.95\n",
            "Standard Deviation of samples: 0.97\n"
          ]
        }
      ]
    },
    {
      "cell_type": "markdown",
      "source": [
        "### Q7 :- Use seaborn library to load tips dataset. Find the following from the dataset for the columns total_bill and tip :\n",
        "\n",
        "(i) Write a Python function that calculates their skewness.\n",
        "\n",
        "\n",
        "(ii) Create a program that determines whether the columns exhibit positive skewness, negative skewness, or is\n",
        "approximately symmetric.\n",
        "\n",
        "\n",
        "(iii) Write a function that calculates the covariance between two columns.\n",
        "\n",
        "\n",
        "(iv) Implement a Python program that calculates the Pearson correlation coefficient between two columns.\n",
        "\n",
        "\n",
        "(v) Write a script to visualize the correlation between two specific columns in a Pandas DataFrame using\n",
        "scatter plots."
      ],
      "metadata": {
        "id": "LlTPftnmgBDZ"
      }
    },
    {
      "cell_type": "markdown",
      "source": [
        "## Answer :-"
      ],
      "metadata": {
        "id": "6gcAILPBgUWq"
      }
    },
    {
      "cell_type": "code",
      "source": [
        "# Using the Seaborn library to load the tips dataset :-\n",
        "\n",
        "tips = sns.load_dataset('tips')\n",
        "tips"
      ],
      "metadata": {
        "colab": {
          "base_uri": "https://localhost:8080/",
          "height": 423
        },
        "id": "uCfSUgVyfrFZ",
        "outputId": "9ca5cbe1-9f06-4a09-96c6-6fe31b93e82b"
      },
      "execution_count": 10,
      "outputs": [
        {
          "output_type": "execute_result",
          "data": {
            "text/plain": [
              "     total_bill   tip     sex smoker   day    time  size\n",
              "0         16.99  1.01  Female     No   Sun  Dinner     2\n",
              "1         10.34  1.66    Male     No   Sun  Dinner     3\n",
              "2         21.01  3.50    Male     No   Sun  Dinner     3\n",
              "3         23.68  3.31    Male     No   Sun  Dinner     2\n",
              "4         24.59  3.61  Female     No   Sun  Dinner     4\n",
              "..          ...   ...     ...    ...   ...     ...   ...\n",
              "239       29.03  5.92    Male     No   Sat  Dinner     3\n",
              "240       27.18  2.00  Female    Yes   Sat  Dinner     2\n",
              "241       22.67  2.00    Male    Yes   Sat  Dinner     2\n",
              "242       17.82  1.75    Male     No   Sat  Dinner     2\n",
              "243       18.78  3.00  Female     No  Thur  Dinner     2\n",
              "\n",
              "[244 rows x 7 columns]"
            ],
            "text/html": [
              "\n",
              "  <div id=\"df-e2046e26-ad08-41cc-8c14-f06445064e48\" class=\"colab-df-container\">\n",
              "    <div>\n",
              "<style scoped>\n",
              "    .dataframe tbody tr th:only-of-type {\n",
              "        vertical-align: middle;\n",
              "    }\n",
              "\n",
              "    .dataframe tbody tr th {\n",
              "        vertical-align: top;\n",
              "    }\n",
              "\n",
              "    .dataframe thead th {\n",
              "        text-align: right;\n",
              "    }\n",
              "</style>\n",
              "<table border=\"1\" class=\"dataframe\">\n",
              "  <thead>\n",
              "    <tr style=\"text-align: right;\">\n",
              "      <th></th>\n",
              "      <th>total_bill</th>\n",
              "      <th>tip</th>\n",
              "      <th>sex</th>\n",
              "      <th>smoker</th>\n",
              "      <th>day</th>\n",
              "      <th>time</th>\n",
              "      <th>size</th>\n",
              "    </tr>\n",
              "  </thead>\n",
              "  <tbody>\n",
              "    <tr>\n",
              "      <th>0</th>\n",
              "      <td>16.99</td>\n",
              "      <td>1.01</td>\n",
              "      <td>Female</td>\n",
              "      <td>No</td>\n",
              "      <td>Sun</td>\n",
              "      <td>Dinner</td>\n",
              "      <td>2</td>\n",
              "    </tr>\n",
              "    <tr>\n",
              "      <th>1</th>\n",
              "      <td>10.34</td>\n",
              "      <td>1.66</td>\n",
              "      <td>Male</td>\n",
              "      <td>No</td>\n",
              "      <td>Sun</td>\n",
              "      <td>Dinner</td>\n",
              "      <td>3</td>\n",
              "    </tr>\n",
              "    <tr>\n",
              "      <th>2</th>\n",
              "      <td>21.01</td>\n",
              "      <td>3.50</td>\n",
              "      <td>Male</td>\n",
              "      <td>No</td>\n",
              "      <td>Sun</td>\n",
              "      <td>Dinner</td>\n",
              "      <td>3</td>\n",
              "    </tr>\n",
              "    <tr>\n",
              "      <th>3</th>\n",
              "      <td>23.68</td>\n",
              "      <td>3.31</td>\n",
              "      <td>Male</td>\n",
              "      <td>No</td>\n",
              "      <td>Sun</td>\n",
              "      <td>Dinner</td>\n",
              "      <td>2</td>\n",
              "    </tr>\n",
              "    <tr>\n",
              "      <th>4</th>\n",
              "      <td>24.59</td>\n",
              "      <td>3.61</td>\n",
              "      <td>Female</td>\n",
              "      <td>No</td>\n",
              "      <td>Sun</td>\n",
              "      <td>Dinner</td>\n",
              "      <td>4</td>\n",
              "    </tr>\n",
              "    <tr>\n",
              "      <th>...</th>\n",
              "      <td>...</td>\n",
              "      <td>...</td>\n",
              "      <td>...</td>\n",
              "      <td>...</td>\n",
              "      <td>...</td>\n",
              "      <td>...</td>\n",
              "      <td>...</td>\n",
              "    </tr>\n",
              "    <tr>\n",
              "      <th>239</th>\n",
              "      <td>29.03</td>\n",
              "      <td>5.92</td>\n",
              "      <td>Male</td>\n",
              "      <td>No</td>\n",
              "      <td>Sat</td>\n",
              "      <td>Dinner</td>\n",
              "      <td>3</td>\n",
              "    </tr>\n",
              "    <tr>\n",
              "      <th>240</th>\n",
              "      <td>27.18</td>\n",
              "      <td>2.00</td>\n",
              "      <td>Female</td>\n",
              "      <td>Yes</td>\n",
              "      <td>Sat</td>\n",
              "      <td>Dinner</td>\n",
              "      <td>2</td>\n",
              "    </tr>\n",
              "    <tr>\n",
              "      <th>241</th>\n",
              "      <td>22.67</td>\n",
              "      <td>2.00</td>\n",
              "      <td>Male</td>\n",
              "      <td>Yes</td>\n",
              "      <td>Sat</td>\n",
              "      <td>Dinner</td>\n",
              "      <td>2</td>\n",
              "    </tr>\n",
              "    <tr>\n",
              "      <th>242</th>\n",
              "      <td>17.82</td>\n",
              "      <td>1.75</td>\n",
              "      <td>Male</td>\n",
              "      <td>No</td>\n",
              "      <td>Sat</td>\n",
              "      <td>Dinner</td>\n",
              "      <td>2</td>\n",
              "    </tr>\n",
              "    <tr>\n",
              "      <th>243</th>\n",
              "      <td>18.78</td>\n",
              "      <td>3.00</td>\n",
              "      <td>Female</td>\n",
              "      <td>No</td>\n",
              "      <td>Thur</td>\n",
              "      <td>Dinner</td>\n",
              "      <td>2</td>\n",
              "    </tr>\n",
              "  </tbody>\n",
              "</table>\n",
              "<p>244 rows × 7 columns</p>\n",
              "</div>\n",
              "    <div class=\"colab-df-buttons\">\n",
              "\n",
              "  <div class=\"colab-df-container\">\n",
              "    <button class=\"colab-df-convert\" onclick=\"convertToInteractive('df-e2046e26-ad08-41cc-8c14-f06445064e48')\"\n",
              "            title=\"Convert this dataframe to an interactive table.\"\n",
              "            style=\"display:none;\">\n",
              "\n",
              "  <svg xmlns=\"http://www.w3.org/2000/svg\" height=\"24px\" viewBox=\"0 -960 960 960\">\n",
              "    <path d=\"M120-120v-720h720v720H120Zm60-500h600v-160H180v160Zm220 220h160v-160H400v160Zm0 220h160v-160H400v160ZM180-400h160v-160H180v160Zm440 0h160v-160H620v160ZM180-180h160v-160H180v160Zm440 0h160v-160H620v160Z\"/>\n",
              "  </svg>\n",
              "    </button>\n",
              "\n",
              "  <style>\n",
              "    .colab-df-container {\n",
              "      display:flex;\n",
              "      gap: 12px;\n",
              "    }\n",
              "\n",
              "    .colab-df-convert {\n",
              "      background-color: #E8F0FE;\n",
              "      border: none;\n",
              "      border-radius: 50%;\n",
              "      cursor: pointer;\n",
              "      display: none;\n",
              "      fill: #1967D2;\n",
              "      height: 32px;\n",
              "      padding: 0 0 0 0;\n",
              "      width: 32px;\n",
              "    }\n",
              "\n",
              "    .colab-df-convert:hover {\n",
              "      background-color: #E2EBFA;\n",
              "      box-shadow: 0px 1px 2px rgba(60, 64, 67, 0.3), 0px 1px 3px 1px rgba(60, 64, 67, 0.15);\n",
              "      fill: #174EA6;\n",
              "    }\n",
              "\n",
              "    .colab-df-buttons div {\n",
              "      margin-bottom: 4px;\n",
              "    }\n",
              "\n",
              "    [theme=dark] .colab-df-convert {\n",
              "      background-color: #3B4455;\n",
              "      fill: #D2E3FC;\n",
              "    }\n",
              "\n",
              "    [theme=dark] .colab-df-convert:hover {\n",
              "      background-color: #434B5C;\n",
              "      box-shadow: 0px 1px 3px 1px rgba(0, 0, 0, 0.15);\n",
              "      filter: drop-shadow(0px 1px 2px rgba(0, 0, 0, 0.3));\n",
              "      fill: #FFFFFF;\n",
              "    }\n",
              "  </style>\n",
              "\n",
              "    <script>\n",
              "      const buttonEl =\n",
              "        document.querySelector('#df-e2046e26-ad08-41cc-8c14-f06445064e48 button.colab-df-convert');\n",
              "      buttonEl.style.display =\n",
              "        google.colab.kernel.accessAllowed ? 'block' : 'none';\n",
              "\n",
              "      async function convertToInteractive(key) {\n",
              "        const element = document.querySelector('#df-e2046e26-ad08-41cc-8c14-f06445064e48');\n",
              "        const dataTable =\n",
              "          await google.colab.kernel.invokeFunction('convertToInteractive',\n",
              "                                                    [key], {});\n",
              "        if (!dataTable) return;\n",
              "\n",
              "        const docLinkHtml = 'Like what you see? Visit the ' +\n",
              "          '<a target=\"_blank\" href=https://colab.research.google.com/notebooks/data_table.ipynb>data table notebook</a>'\n",
              "          + ' to learn more about interactive tables.';\n",
              "        element.innerHTML = '';\n",
              "        dataTable['output_type'] = 'display_data';\n",
              "        await google.colab.output.renderOutput(dataTable, element);\n",
              "        const docLink = document.createElement('div');\n",
              "        docLink.innerHTML = docLinkHtml;\n",
              "        element.appendChild(docLink);\n",
              "      }\n",
              "    </script>\n",
              "  </div>\n",
              "\n",
              "\n",
              "<div id=\"df-e3253bbe-4481-4327-9394-e4c1107a5681\">\n",
              "  <button class=\"colab-df-quickchart\" onclick=\"quickchart('df-e3253bbe-4481-4327-9394-e4c1107a5681')\"\n",
              "            title=\"Suggest charts\"\n",
              "            style=\"display:none;\">\n",
              "\n",
              "<svg xmlns=\"http://www.w3.org/2000/svg\" height=\"24px\"viewBox=\"0 0 24 24\"\n",
              "     width=\"24px\">\n",
              "    <g>\n",
              "        <path d=\"M19 3H5c-1.1 0-2 .9-2 2v14c0 1.1.9 2 2 2h14c1.1 0 2-.9 2-2V5c0-1.1-.9-2-2-2zM9 17H7v-7h2v7zm4 0h-2V7h2v10zm4 0h-2v-4h2v4z\"/>\n",
              "    </g>\n",
              "</svg>\n",
              "  </button>\n",
              "\n",
              "<style>\n",
              "  .colab-df-quickchart {\n",
              "      --bg-color: #E8F0FE;\n",
              "      --fill-color: #1967D2;\n",
              "      --hover-bg-color: #E2EBFA;\n",
              "      --hover-fill-color: #174EA6;\n",
              "      --disabled-fill-color: #AAA;\n",
              "      --disabled-bg-color: #DDD;\n",
              "  }\n",
              "\n",
              "  [theme=dark] .colab-df-quickchart {\n",
              "      --bg-color: #3B4455;\n",
              "      --fill-color: #D2E3FC;\n",
              "      --hover-bg-color: #434B5C;\n",
              "      --hover-fill-color: #FFFFFF;\n",
              "      --disabled-bg-color: #3B4455;\n",
              "      --disabled-fill-color: #666;\n",
              "  }\n",
              "\n",
              "  .colab-df-quickchart {\n",
              "    background-color: var(--bg-color);\n",
              "    border: none;\n",
              "    border-radius: 50%;\n",
              "    cursor: pointer;\n",
              "    display: none;\n",
              "    fill: var(--fill-color);\n",
              "    height: 32px;\n",
              "    padding: 0;\n",
              "    width: 32px;\n",
              "  }\n",
              "\n",
              "  .colab-df-quickchart:hover {\n",
              "    background-color: var(--hover-bg-color);\n",
              "    box-shadow: 0 1px 2px rgba(60, 64, 67, 0.3), 0 1px 3px 1px rgba(60, 64, 67, 0.15);\n",
              "    fill: var(--button-hover-fill-color);\n",
              "  }\n",
              "\n",
              "  .colab-df-quickchart-complete:disabled,\n",
              "  .colab-df-quickchart-complete:disabled:hover {\n",
              "    background-color: var(--disabled-bg-color);\n",
              "    fill: var(--disabled-fill-color);\n",
              "    box-shadow: none;\n",
              "  }\n",
              "\n",
              "  .colab-df-spinner {\n",
              "    border: 2px solid var(--fill-color);\n",
              "    border-color: transparent;\n",
              "    border-bottom-color: var(--fill-color);\n",
              "    animation:\n",
              "      spin 1s steps(1) infinite;\n",
              "  }\n",
              "\n",
              "  @keyframes spin {\n",
              "    0% {\n",
              "      border-color: transparent;\n",
              "      border-bottom-color: var(--fill-color);\n",
              "      border-left-color: var(--fill-color);\n",
              "    }\n",
              "    20% {\n",
              "      border-color: transparent;\n",
              "      border-left-color: var(--fill-color);\n",
              "      border-top-color: var(--fill-color);\n",
              "    }\n",
              "    30% {\n",
              "      border-color: transparent;\n",
              "      border-left-color: var(--fill-color);\n",
              "      border-top-color: var(--fill-color);\n",
              "      border-right-color: var(--fill-color);\n",
              "    }\n",
              "    40% {\n",
              "      border-color: transparent;\n",
              "      border-right-color: var(--fill-color);\n",
              "      border-top-color: var(--fill-color);\n",
              "    }\n",
              "    60% {\n",
              "      border-color: transparent;\n",
              "      border-right-color: var(--fill-color);\n",
              "    }\n",
              "    80% {\n",
              "      border-color: transparent;\n",
              "      border-right-color: var(--fill-color);\n",
              "      border-bottom-color: var(--fill-color);\n",
              "    }\n",
              "    90% {\n",
              "      border-color: transparent;\n",
              "      border-bottom-color: var(--fill-color);\n",
              "    }\n",
              "  }\n",
              "</style>\n",
              "\n",
              "  <script>\n",
              "    async function quickchart(key) {\n",
              "      const quickchartButtonEl =\n",
              "        document.querySelector('#' + key + ' button');\n",
              "      quickchartButtonEl.disabled = true;  // To prevent multiple clicks.\n",
              "      quickchartButtonEl.classList.add('colab-df-spinner');\n",
              "      try {\n",
              "        const charts = await google.colab.kernel.invokeFunction(\n",
              "            'suggestCharts', [key], {});\n",
              "      } catch (error) {\n",
              "        console.error('Error during call to suggestCharts:', error);\n",
              "      }\n",
              "      quickchartButtonEl.classList.remove('colab-df-spinner');\n",
              "      quickchartButtonEl.classList.add('colab-df-quickchart-complete');\n",
              "    }\n",
              "    (() => {\n",
              "      let quickchartButtonEl =\n",
              "        document.querySelector('#df-e3253bbe-4481-4327-9394-e4c1107a5681 button');\n",
              "      quickchartButtonEl.style.display =\n",
              "        google.colab.kernel.accessAllowed ? 'block' : 'none';\n",
              "    })();\n",
              "  </script>\n",
              "</div>\n",
              "\n",
              "  <div id=\"id_a0899e8f-fe9c-43fb-9400-2a8af4f97417\">\n",
              "    <style>\n",
              "      .colab-df-generate {\n",
              "        background-color: #E8F0FE;\n",
              "        border: none;\n",
              "        border-radius: 50%;\n",
              "        cursor: pointer;\n",
              "        display: none;\n",
              "        fill: #1967D2;\n",
              "        height: 32px;\n",
              "        padding: 0 0 0 0;\n",
              "        width: 32px;\n",
              "      }\n",
              "\n",
              "      .colab-df-generate:hover {\n",
              "        background-color: #E2EBFA;\n",
              "        box-shadow: 0px 1px 2px rgba(60, 64, 67, 0.3), 0px 1px 3px 1px rgba(60, 64, 67, 0.15);\n",
              "        fill: #174EA6;\n",
              "      }\n",
              "\n",
              "      [theme=dark] .colab-df-generate {\n",
              "        background-color: #3B4455;\n",
              "        fill: #D2E3FC;\n",
              "      }\n",
              "\n",
              "      [theme=dark] .colab-df-generate:hover {\n",
              "        background-color: #434B5C;\n",
              "        box-shadow: 0px 1px 3px 1px rgba(0, 0, 0, 0.15);\n",
              "        filter: drop-shadow(0px 1px 2px rgba(0, 0, 0, 0.3));\n",
              "        fill: #FFFFFF;\n",
              "      }\n",
              "    </style>\n",
              "    <button class=\"colab-df-generate\" onclick=\"generateWithVariable('tips')\"\n",
              "            title=\"Generate code using this dataframe.\"\n",
              "            style=\"display:none;\">\n",
              "\n",
              "  <svg xmlns=\"http://www.w3.org/2000/svg\" height=\"24px\"viewBox=\"0 0 24 24\"\n",
              "       width=\"24px\">\n",
              "    <path d=\"M7,19H8.4L18.45,9,17,7.55,7,17.6ZM5,21V16.75L18.45,3.32a2,2,0,0,1,2.83,0l1.4,1.43a1.91,1.91,0,0,1,.58,1.4,1.91,1.91,0,0,1-.58,1.4L9.25,21ZM18.45,9,17,7.55Zm-12,3A5.31,5.31,0,0,0,4.9,8.1,5.31,5.31,0,0,0,1,6.5,5.31,5.31,0,0,0,4.9,4.9,5.31,5.31,0,0,0,6.5,1,5.31,5.31,0,0,0,8.1,4.9,5.31,5.31,0,0,0,12,6.5,5.46,5.46,0,0,0,6.5,12Z\"/>\n",
              "  </svg>\n",
              "    </button>\n",
              "    <script>\n",
              "      (() => {\n",
              "      const buttonEl =\n",
              "        document.querySelector('#id_a0899e8f-fe9c-43fb-9400-2a8af4f97417 button.colab-df-generate');\n",
              "      buttonEl.style.display =\n",
              "        google.colab.kernel.accessAllowed ? 'block' : 'none';\n",
              "\n",
              "      buttonEl.onclick = () => {\n",
              "        google.colab.notebook.generateWithVariable('tips');\n",
              "      }\n",
              "      })();\n",
              "    </script>\n",
              "  </div>\n",
              "\n",
              "    </div>\n",
              "  </div>\n"
            ],
            "application/vnd.google.colaboratory.intrinsic+json": {
              "type": "dataframe",
              "variable_name": "tips",
              "summary": "{\n  \"name\": \"tips\",\n  \"rows\": 244,\n  \"fields\": [\n    {\n      \"column\": \"total_bill\",\n      \"properties\": {\n        \"dtype\": \"number\",\n        \"std\": 8.902411954856856,\n        \"min\": 3.07,\n        \"max\": 50.81,\n        \"num_unique_values\": 229,\n        \"samples\": [\n          22.12,\n          20.23,\n          14.78\n        ],\n        \"semantic_type\": \"\",\n        \"description\": \"\"\n      }\n    },\n    {\n      \"column\": \"tip\",\n      \"properties\": {\n        \"dtype\": \"number\",\n        \"std\": 1.3836381890011826,\n        \"min\": 1.0,\n        \"max\": 10.0,\n        \"num_unique_values\": 123,\n        \"samples\": [\n          3.35,\n          1.5,\n          6.73\n        ],\n        \"semantic_type\": \"\",\n        \"description\": \"\"\n      }\n    },\n    {\n      \"column\": \"sex\",\n      \"properties\": {\n        \"dtype\": \"category\",\n        \"num_unique_values\": 2,\n        \"samples\": [\n          \"Male\",\n          \"Female\"\n        ],\n        \"semantic_type\": \"\",\n        \"description\": \"\"\n      }\n    },\n    {\n      \"column\": \"smoker\",\n      \"properties\": {\n        \"dtype\": \"category\",\n        \"num_unique_values\": 2,\n        \"samples\": [\n          \"Yes\",\n          \"No\"\n        ],\n        \"semantic_type\": \"\",\n        \"description\": \"\"\n      }\n    },\n    {\n      \"column\": \"day\",\n      \"properties\": {\n        \"dtype\": \"category\",\n        \"num_unique_values\": 4,\n        \"samples\": [\n          \"Sat\",\n          \"Fri\"\n        ],\n        \"semantic_type\": \"\",\n        \"description\": \"\"\n      }\n    },\n    {\n      \"column\": \"time\",\n      \"properties\": {\n        \"dtype\": \"category\",\n        \"num_unique_values\": 2,\n        \"samples\": [\n          \"Lunch\",\n          \"Dinner\"\n        ],\n        \"semantic_type\": \"\",\n        \"description\": \"\"\n      }\n    },\n    {\n      \"column\": \"size\",\n      \"properties\": {\n        \"dtype\": \"number\",\n        \"std\": 0,\n        \"min\": 1,\n        \"max\": 6,\n        \"num_unique_values\": 6,\n        \"samples\": [\n          2,\n          3\n        ],\n        \"semantic_type\": \"\",\n        \"description\": \"\"\n      }\n    }\n  ]\n}"
            }
          },
          "metadata": {},
          "execution_count": 10
        }
      ]
    },
    {
      "cell_type": "markdown",
      "source": [
        "### (i) Write a Python function that calculates their skewness."
      ],
      "metadata": {
        "id": "Xk2g-q1Ngrcs"
      }
    },
    {
      "cell_type": "code",
      "source": [
        "# def function to calculate their skewness :-\n",
        "\n",
        "def calculate_skewness(column):\n",
        "    return stats.skew(column)"
      ],
      "metadata": {
        "id": "8QAPuHE8giu_"
      },
      "execution_count": 11,
      "outputs": []
    },
    {
      "cell_type": "markdown",
      "source": [
        "### (ii) Create a program that determines whether the columns exhibit positive skewness, negative skewness, or is approximately symmetric."
      ],
      "metadata": {
        "id": "_zG07vpcg-jm"
      }
    },
    {
      "cell_type": "code",
      "source": [
        "# def function to determine skewness types :-\n",
        "\n",
        "def determine_skewness_type(column):\n",
        "    skewness = calculate_skewness(column)\n",
        "    if skewness > 0:\n",
        "        return \"Positive Skewness\"\n",
        "    elif skewness < 0:\n",
        "        return \"Negative Skewness\"\n",
        "    else:\n",
        "        return \"Approximately Symmetric\""
      ],
      "metadata": {
        "id": "2YfeuXEOg5-Y"
      },
      "execution_count": 12,
      "outputs": []
    },
    {
      "cell_type": "markdown",
      "source": [
        "### (iii) Write a function that calculates the covariance between two columns."
      ],
      "metadata": {
        "id": "dKOKTkbahQrL"
      }
    },
    {
      "cell_type": "code",
      "source": [
        "# def function to calculate covariance between two columns, let's take col1 and col2 :-\n",
        "\n",
        "def calculate_covariance(col1, col2):\n",
        "    return np.cov(col1, col2)[0][1]"
      ],
      "metadata": {
        "id": "TkcRNMX1hOOQ"
      },
      "execution_count": 14,
      "outputs": []
    },
    {
      "cell_type": "markdown",
      "source": [
        "### (iv) Implement a Python program that calculates the Pearson correlation coefficient between two columns.\n",
        "\n"
      ],
      "metadata": {
        "id": "IM56yngehVE0"
      }
    },
    {
      "cell_type": "code",
      "source": [
        "# def function to calculate Pearson correlation coefficient :\n",
        "\n",
        "def calculate_pearson_correlation(col1, col2):\n",
        "    return np.corrcoef(col1, col2)[0][1]"
      ],
      "metadata": {
        "id": "5iI-UT0mhZrN"
      },
      "execution_count": 15,
      "outputs": []
    },
    {
      "cell_type": "markdown",
      "source": [
        "### (v) Write a script to visualize the correlation between two specific columns in a Pandas DataFrame using scatter plots."
      ],
      "metadata": {
        "id": "hWE4ncxDhaZ4"
      }
    },
    {
      "cell_type": "code",
      "source": [
        "# def function to visualize correlation using scatter plot :-\n",
        "\n",
        "def plot_scatter(df, col1, col2):\n",
        "    plt.figure(figsize=(8, 6))\n",
        "    sns.scatterplot(x=df[col1], y=df[col2])\n",
        "    plt.title(f'Scatter Plot of {col1} vs {col2}')\n",
        "    plt.xlabel(col1)\n",
        "    plt.ylabel(col2)\n",
        "    plt.show()"
      ],
      "metadata": {
        "id": "e9BAT46Lhbkl"
      },
      "execution_count": 17,
      "outputs": []
    },
    {
      "cell_type": "code",
      "source": [
        "# Calculate skewness for total_bill and tip :-\n",
        "total_bill_skewness = determine_skewness_type(tips['total_bill'])\n",
        "tip_skewness = determine_skewness_type(tips['tip'])\n",
        "\n",
        "\n",
        "print(f\"Total Bill: {total_bill_skewness}\")\n",
        "print(f\"Tip: {tip_skewness}\")\n",
        "\n",
        "\n",
        "# Calculate covariance between total_bill and tip :-\n",
        "covariance = calculate_covariance(tips['total_bill'], tips['tip'])\n",
        "print(f\"Covariance between total_bill and tip: {covariance:.2f}\")\n",
        "\n",
        "\n",
        "# Calculate Pearson correlation coefficient between total_bill and tip :-\n",
        "pearson_corr = calculate_pearson_correlation(tips['total_bill'], tips['tip'])\n",
        "print(f\"Pearson correlation coefficient between total_bill and tip: {pearson_corr:.2f}\")\n",
        "\n",
        "\n",
        "# Visualize correlation with a scatter plot :-\n",
        "plot_scatter(tips, 'total_bill', 'tip')"
      ],
      "metadata": {
        "colab": {
          "base_uri": "https://localhost:8080/",
          "height": 633
        },
        "id": "96iNj4Hlh0dp",
        "outputId": "0b8fb24a-2045-47b8-f7b5-534c3b978a1c"
      },
      "execution_count": 18,
      "outputs": [
        {
          "output_type": "stream",
          "name": "stdout",
          "text": [
            "Total Bill: Positive Skewness\n",
            "Tip: Positive Skewness\n",
            "Covariance between total_bill and tip: 8.32\n",
            "Pearson correlation coefficient between total_bill and tip: 0.68\n"
          ]
        },
        {
          "output_type": "display_data",
          "data": {
            "text/plain": [
              "<Figure size 800x600 with 1 Axes>"
            ],
            "image/png": "[encoded data removed]"
          },
          "metadata": {}
        }
      ]
    },
    {
      "cell_type": "markdown",
      "source": [
        "### Q8 :- Write a Python function to calculate the probability density function (PDF) of a continuous random variable for a given normal distribution.\n"
      ],
      "metadata": {
        "id": "f_zKqUQxiVbp"
      }
    },
    {
      "cell_type": "markdown",
      "source": [
        "## Answer :-"
      ],
      "metadata": {
        "id": "06qO7Ib9iZwd"
      }
    },
    {
      "cell_type": "code",
      "source": [
        "\"\"\"\n",
        "Calculate the probability density function (PDF) of a normal distribution.\n",
        "\n",
        "Parameters: - x: float, the point at which to evaluate the PDF.\n",
        "            - mean: float, the mean (μ) of the normal distribution.\n",
        "            - std_dev: float, the standard deviation (σ) of the normal distribution.\n",
        "\n",
        "Returns: pdf_value: float, the value of the PDF at point x.\n",
        "\"\"\"\n",
        "\n",
        "def normal_pdf(x, mean, std_dev):\n",
        "    coefficient = 1 / (std_dev * np.sqrt(2 * np.pi))\n",
        "    exponent = np.exp(-((x - mean) ** 2) / (2 * std_dev ** 2))\n",
        "    pdf_value = coefficient * exponent\n",
        "    return pdf_value\n",
        "\n",
        "# Usage to get mean, standard deviation, x :-\n",
        "if __name__ == \"__main__\":\n",
        "    mean = 0        # Mean of the distribution\n",
        "    std_dev = 1    # Standard deviation of the distribution\n",
        "    x = 0          # Point to evaluate the PDF\n",
        "\n",
        "    pdf_value = normal_pdf(x, mean, std_dev)\n",
        "    print(f\"The PDF of a normal distribution at x = {x} is: {pdf_value:.5f}\")\n"
      ],
      "metadata": {
        "colab": {
          "base_uri": "https://localhost:8080/"
        },
        "id": "ML3f5sCSiHxo",
        "outputId": "4ab283f2-487b-4ed3-bb83-f0b4bdcdde4d"
      },
      "execution_count": 20,
      "outputs": [
        {
          "output_type": "stream",
          "name": "stdout",
          "text": [
            "The PDF of a normal distribution at x = 0 is: 0.39894\n"
          ]
        }
      ]
    },
    {
      "cell_type": "markdown",
      "source": [
        "### Q9 :- Create a program to calculate the cumulative distribution function (CDF) of exponential distribution."
      ],
      "metadata": {
        "id": "bYxuNU8CkISo"
      }
    },
    {
      "cell_type": "markdown",
      "source": [
        "## Answer :-"
      ],
      "metadata": {
        "id": "flMTNw7fkL-r"
      }
    },
    {
      "cell_type": "code",
      "source": [
        "\"\"\"\n",
        "Calculate the cumulative distribution function (CDF) of an exponential distribution.\n",
        "\n",
        "Parameters: - x: the point at which to evaluate the CDF (x >= 0).\n",
        "            - rate: the rate parameter of the exponential distribution (rate parameter > 0).\n",
        "\n",
        "Returns: cdf_value: the value of the CDF at point x.\n",
        "\"\"\"\n",
        "\n",
        "\n",
        "\n",
        "def exponential_cdf(x, rate):\n",
        "\n",
        "    if x < 0:\n",
        "        return 0.0  # CDF is 0 for x < 0\n",
        "    cdf_value = 1 - np.exp(-rate * x)\n",
        "    return cdf_value\n",
        "\n",
        "# Usage of code :-\n",
        "if __name__ == \"__main__\":\n",
        "    rate = 1.5  # Rate parameter\n",
        "    x_values = [0, 1, 2, 3, 4, 5]  # Points to evaluate the CDF\n",
        "\n",
        "    print(f\"Cumulative Distribution Function (CDF) for rate = {rate}:\")\n",
        "    for x in x_values:\n",
        "        cdf_value = exponential_cdf(x, rate)\n",
        "        print(f\"CDF at x = {x}: {cdf_value:.5f}\")\n"
      ],
      "metadata": {
        "colab": {
          "base_uri": "https://localhost:8080/"
        },
        "id": "Iwz2sIOekAT6",
        "outputId": "62c95e5c-21c9-45a0-8a0d-cab478e1c305"
      },
      "execution_count": 22,
      "outputs": [
        {
          "output_type": "stream",
          "name": "stdout",
          "text": [
            "Cumulative Distribution Function (CDF) for rate = 1.5:\n",
            "CDF at x = 0: 0.00000\n",
            "CDF at x = 1: 0.77687\n",
            "CDF at x = 2: 0.95021\n",
            "CDF at x = 3: 0.98889\n",
            "CDF at x = 4: 0.99752\n",
            "CDF at x = 5: 0.99945\n"
          ]
        }
      ]
    },
    {
      "cell_type": "markdown",
      "source": [
        "### Q10 :- Write a Python function to calculate the probability mass function (PMF) of Poisson distribution."
      ],
      "metadata": {
        "id": "9oHEBhrVllQ7"
      }
    },
    {
      "cell_type": "markdown",
      "source": [
        "## Answer :-"
      ],
      "metadata": {
        "id": "FaymEDT_lpLP"
      }
    },
    {
      "cell_type": "code",
      "source": [
        "# Import factorial :-\n",
        "from scipy.special import factorial\n",
        "\n",
        "\"\"\"\n",
        "Calculate the probability mass function (PMF) of a Poisson distribution.\n",
        "\n",
        "Parameters: - k: the number of occurrences (k >= 0).\n",
        "            - rate: the average rate (λ) of occurrences (λ > 0).\n",
        "\n",
        "Returns: pmf_value: the value of the PMF at k.\n",
        "\"\"\"\n",
        "\n",
        "\n",
        "def poisson_pmf(k, rate):\n",
        "\n",
        "    if k < 0 or rate < 0:\n",
        "        return 0.0  # PMF is 0 for negative k or rate\n",
        "    pmf_value = (np.exp(-rate) * (rate ** k)) / factorial(k)\n",
        "    return pmf_value\n",
        "\n",
        "# Usage :-\n",
        "if __name__ == \"__main__\":\n",
        "    rate = 4.0  # Average rate (rate)\n",
        "    k_values = [0, 1, 2, 3, 4, 5]  # Points to evaluate the PMF\n",
        "\n",
        "    print(f\"Probability Mass Function (PMF) for rate = {rate}:\")\n",
        "    for k in k_values:\n",
        "        pmf_value = poisson_pmf(k, rate)\n",
        "        print(f\"PMF at k = {k}: {pmf_value:.5f}\")\n"
      ],
      "metadata": {
        "colab": {
          "base_uri": "https://localhost:8080/"
        },
        "id": "2pyuMYcFlFm8",
        "outputId": "c32335b0-f784-4961-c914-e6e9b4d879d2"
      },
      "execution_count": 23,
      "outputs": [
        {
          "output_type": "stream",
          "name": "stdout",
          "text": [
            "Probability Mass Function (PMF) for rate = 4.0:\n",
            "PMF at k = 0: 0.01832\n",
            "PMF at k = 1: 0.07326\n",
            "PMF at k = 2: 0.14653\n",
            "PMF at k = 3: 0.19537\n",
            "PMF at k = 4: 0.19537\n",
            "PMF at k = 5: 0.15629\n"
          ]
        }
      ]
    },
    {
      "cell_type": "markdown",
      "source": [
        "### Q11 :- A company wants to test if a new website layout leads to a higher conversion rate (percentage of visitors who make a purchase). They collect data from the old and new layouts to compare.\n",
        "\n",
        "To generate the data use the following command:\n",
        "\n",
        "\"\"\"\n",
        "\n",
        "python :-\n",
        "\n",
        "import numpy as np\n",
        "\n",
        "- 50 purchases out of 1000 visitors\n",
        "\n",
        "old_layout = np.array([1] * 50 + [0] * 950)\n",
        "\n",
        "- 70 purchases out of 1000 visitors  \n",
        "\n",
        "new_layout = np.array([1] * 70 + [0] * 930)\n",
        "\n",
        "\"\"\"\n",
        "\n",
        "Apply z-test to find which layout is successful."
      ],
      "metadata": {
        "id": "yKksbAX_nJkH"
      }
    },
    {
      "cell_type": "markdown",
      "source": [
        "## Answer :-\n",
        "\n",
        "### To determine if the new website layout leads to a significantly higher conversion rate than the old layout, we can perform a two-proportion z-test :"
      ],
      "metadata": {
        "id": "Jj3lAyPDoiJu"
      }
    },
    {
      "cell_type": "code",
      "source": [
        "# Import the statsmodel.api to calculate :-\n",
        "import statsmodels.api as sm\n",
        "\n",
        "# Generated the data :-\n",
        "# 50 purchases out of 1000 visitors :\n",
        "old_layout = np.array([1] * 50 + [0] * 950)\n",
        "\n",
        "# 70 purchases out of 1000 visitors :\n",
        "new_layout = np.array([1] * 70 + [0] * 930)\n",
        "\n",
        "\n",
        "\n",
        "# Calculate the number of successes and the number of trials :\n",
        "successes = [np.sum(old_layout), np.sum(new_layout)]\n",
        "trials = [len(old_layout), len(new_layout)]\n",
        "\n",
        "\n",
        "\n",
        "# Perform the z-test for two proportions :\n",
        "z_stat, p_value = sm.stats.proportions_ztest(successes, trials)\n",
        "\n",
        "\n",
        "\n",
        "# show the results :\n",
        "print(f\"Z-statistic: {z_stat:.4f}\")\n",
        "print(f\"P-value: {p_value:.4f}\")\n",
        "\n",
        "\n",
        "\n",
        "# Determine significance :\n",
        "alpha = 0.05\n",
        "if p_value < alpha:\n",
        "    print(\"Reject the null hypothesis: The new layout has a higher conversion rate.\")\n",
        "else:\n",
        "    print(\"Fail to reject the null hypothesis: No significant difference in conversion rates.\")\n"
      ],
      "metadata": {
        "colab": {
          "base_uri": "https://localhost:8080/"
        },
        "id": "YV7DRkBzmz5y",
        "outputId": "47dadb6b-4b7a-4eb1-f7c1-6fc017192d4d"
      },
      "execution_count": 28,
      "outputs": [
        {
          "output_type": "stream",
          "name": "stdout",
          "text": [
            "Z-statistic: -1.8831\n",
            "P-value: 0.0597\n",
            "Fail to reject the null hypothesis: No significant difference in conversion rates.\n"
          ]
        }
      ]
    },
    {
      "cell_type": "markdown",
      "source": [
        "### Q12 :- A tutoring service claims that its program improves students' exam scores. A sample of students who participated in the program was taken, and their scores before and after the program were recorded.\n",
        "\n",
        "Use the below code to generate samples of respective arrays of marks:\n",
        "\n",
        "\"\"\"\n",
        "\n",
        "python :-\n",
        "\n",
        "before_program = np.array([75, 80, 85, 70, 90, 78, 92, 88, 82, 87])\n",
        "\n",
        "after_program = np.array([80, 85, 90, 80, 92, 80, 95, 90, 85, 88])\n",
        "\n",
        "\"\"\"\n",
        "\n",
        "Use z-test to find if the claims made by tutor are true or false."
      ],
      "metadata": {
        "id": "U3KPyFP2o82K"
      }
    },
    {
      "cell_type": "markdown",
      "source": [
        "## Answer :-\n",
        "\n",
        "### To determine whether the tutoring service's program has a significant effect on students' exam scores, you can perform a paired z-test :-"
      ],
      "metadata": {
        "id": "uKproW1CpHW2"
      }
    },
    {
      "cell_type": "code",
      "source": [
        "# Import the statsmodel.api to calculate :-\n",
        "import statsmodels.api as sm\n",
        "from scipy import stats  # Import scipy.stats\n",
        "\n",
        "\n",
        "\n",
        "# Generate the data from the question :-\n",
        "before_program = np.array([75, 80, 85, 70, 90, 78, 92, 88, 82, 87])\n",
        "after_program = np.array([80, 85, 90, 80, 92, 80, 95, 90, 85, 88])\n",
        "\n",
        "\n",
        "\n",
        "# Calculated the differences of after and before program :-\n",
        "differences = after_program - before_program\n",
        "\n",
        "\n",
        "\n",
        "# Perform a one-sample z-test on the differences :-\n",
        "mean_diff = np.mean(differences)\n",
        "std_diff = np.std(differences, ddof=1)  # sample standard deviation\n",
        "n = len(differences)\n",
        "\n",
        "\n",
        "\n",
        "# Calculate z-statistic :-\n",
        "z_stat = mean_diff / (std_diff / np.sqrt(n))\n",
        "\n",
        "\n",
        "\n",
        "# Calculate the p-value for a one-tailed test, Used stats.norm.cdf :-\n",
        "p_value = 1 - stats.norm.cdf(z_stat)\n",
        "\n",
        "\n",
        "\n",
        "# Show the results :-\n",
        "print(f\"Z-statistic: {z_stat:.4f}\")\n",
        "print(f\"P-value: {p_value:.4f}\")\n",
        "\n",
        "\n",
        "\n",
        "# Determine significance :-\n",
        "alpha = 0.05\n",
        "if p_value < alpha:\n",
        "    print(\"Reject the null hypothesis: The tutoring program improves scores.\")\n",
        "else:\n",
        "    print(\"Fail to reject the null hypothesis: No significant improvement in scores.\")\n"
      ],
      "metadata": {
        "colab": {
          "base_uri": "https://localhost:8080/"
        },
        "id": "v4LFo_Z-naAJ",
        "outputId": "df9e9566-16c6-4e16-ffd6-c188fbeef35d"
      },
      "execution_count": 31,
      "outputs": [
        {
          "output_type": "stream",
          "name": "stdout",
          "text": [
            "Z-statistic: 4.5932\n",
            "P-value: 0.0000\n",
            "Reject the null hypothesis: The tutoring program improves scores.\n"
          ]
        }
      ]
    },
    {
      "cell_type": "markdown",
      "source": [
        "### Q13 :- A pharmaceutical company wants to determine if a new drug is effective in reducing blood pressure. They conduct a study and record blood pressure measurements before and after administering the drug.\n",
        "\n",
        "Use the below code to generate samples of respective arrays of blood pressure:\n",
        "\n",
        "\"\"\"\n",
        "\n",
        "python :-\n",
        "\n",
        "before_drug = np.array([145, 150, 140, 135, 155, 160, 152, 148, 130, 138])\n",
        "\n",
        "after_drug = np.array([130, 140, 132, 128, 145, 148, 138, 136, 125, 130])\n",
        "\n",
        "\"\"\"\n",
        "\n",
        "\n",
        "Implement z-test to find if the drug really works or not."
      ],
      "metadata": {
        "id": "xafU4EHyq8jB"
      }
    },
    {
      "cell_type": "markdown",
      "source": [
        "## Answer :-\n",
        "\n",
        "### To determine whether the new drug is effective in reducing blood pressure, you can perform a paired z-test on the blood pressure measurements taken before and after administering the drug."
      ],
      "metadata": {
        "id": "P_pbRydZrwlS"
      }
    },
    {
      "cell_type": "code",
      "source": [
        "# Generated the data from the given value :-\n",
        "before_drug = np.array([145, 150, 140, 135, 155, 160, 152, 148, 130, 138])\n",
        "after_drug = np.array([130, 140, 132, 128, 145, 148, 138, 136, 125, 130])\n",
        "\n",
        "\n",
        "\n",
        "# Calculate the differences of after and before drugs :-\n",
        "differences = after_drug - before_drug\n",
        "\n",
        "\n",
        "\n",
        "# Calculate the mean and standard deviation of the differences :-\n",
        "mean_diff = np.mean(differences)\n",
        "std_diff = np.std(differences, ddof=1)  # Sample standard deviation\n",
        "n = len(differences)\n",
        "\n",
        "\n",
        "\n",
        "# Calculate the z-statistic :-\n",
        "z_stat = mean_diff / (std_diff / np.sqrt(n))\n",
        "\n",
        "\n",
        "\n",
        "# Calculate the p-value for a one-tailed test :-\n",
        "p_value = 1 - stats.norm.cdf(z_stat)\n",
        "\n",
        "\n",
        "\n",
        "# Show the results :-\n",
        "print(f\"Z-statistic: {z_stat:.4f}\")\n",
        "print(f\"P-value: {p_value:.4f}\")\n",
        "\n",
        "\n",
        "\n",
        "# Check conclusion :-\n",
        "alpha = 0.05\n",
        "if p_value < alpha:\n",
        "    print(\"The drug is effective in reducing blood pressure.\")\n",
        "else:\n",
        "    print(\"No significant reduction in blood pressure from the drug.\")\n"
      ],
      "metadata": {
        "colab": {
          "base_uri": "https://localhost:8080/"
        },
        "id": "b__TWJ9CqoYg",
        "outputId": "9d2b2073-dcd9-451f-b717-adc3a565585d"
      },
      "execution_count": 34,
      "outputs": [
        {
          "output_type": "stream",
          "name": "stdout",
          "text": [
            "Z-statistic: -10.0499\n",
            "P-value: 1.0000\n",
            "No significant reduction in blood pressure from the drug.\n"
          ]
        }
      ]
    },
    {
      "cell_type": "markdown",
      "source": [
        "### Q14 :-  A customer service department claims that their average response time is less than 5 minutes. A sample of recent customer interactions was taken, and the response times were recorded.\n",
        "\n",
        "Implement the below code to generate the array of response time:\n",
        "\n",
        "\"\"\"\n",
        "\n",
        "python :-\n",
        "\n",
        "response_times = np.array([4.3, 3.8, 5.1, 4.9, 4.7, 4.2, 5.2, 4.5, 4.6, 4.4])\n",
        "\n",
        "\"\"\"\n",
        "\n",
        "Implement z-test to find the claims made by customer service department are tru or false"
      ],
      "metadata": {
        "id": "ISfqisgRsbyV"
      }
    },
    {
      "cell_type": "markdown",
      "source": [
        "## Answer :-\n",
        "\n",
        "### To calculate/determine the customer service department's claim that their average response time is less than 5 minutes, we can perform a one-sample z-test."
      ],
      "metadata": {
        "id": "OrCgs_yAskr9"
      }
    },
    {
      "cell_type": "code",
      "source": [
        "# Generated the response time data :-\n",
        "response_times = np.array([4.3, 3.8, 5.1, 4.9, 4.7, 4.2, 5.2, 4.5, 4.6, 4.4])\n",
        "\n",
        "\n",
        "\n",
        "# Calculate the sample mean and standard deviation :-\n",
        "sample_mean = np.mean(response_times)\n",
        "sample_std = np.std(response_times, ddof=1)  # Sample standard deviation\n",
        "n = len(response_times)\n",
        "\n",
        "\n",
        "\n",
        "# Population mean (the claim) :-\n",
        "population_mean = 5.0\n",
        "\n",
        "\n",
        "\n",
        "# Calculate the z-statistic :-\n",
        "z_stat = (sample_mean - population_mean) / (sample_std / np.sqrt(n))\n",
        "\n",
        "\n",
        "\n",
        "# Calculate the p-value for a one-tailed test :-\n",
        "p_value = stats.norm.cdf(z_stat)\n",
        "\n",
        "\n",
        "\n",
        "# show the results :-\n",
        "print(f\"Z-statistic: {z_stat:.4f}\")\n",
        "print(f\"P-value: {p_value:.4f}\")\n",
        "\n",
        "\n",
        "\n",
        "# Check conclusion :-\n",
        "alpha = 0.05\n",
        "if p_value < alpha:\n",
        "    print(\"The customer service department's claim is supported: average response time is less than 5 minutes.\")\n",
        "else:\n",
        "    print(\"The claim is not supported: no significant evidence that the average response time is less than 5 minutes.\")\n"
      ],
      "metadata": {
        "colab": {
          "base_uri": "https://localhost:8080/"
        },
        "id": "z8NdxnQksQDv",
        "outputId": "f1cba44e-2959-47f2-bfb3-d62f4c155627"
      },
      "execution_count": 35,
      "outputs": [
        {
          "output_type": "stream",
          "name": "stdout",
          "text": [
            "Z-statistic: -3.1845\n",
            "P-value: 0.0007\n",
            "The customer service department's claim is supported: average response time is less than 5 minutes.\n"
          ]
        }
      ]
    },
    {
      "cell_type": "markdown",
      "source": [
        "### Q15 :- A company is testing two different website layouts to see which one leads to higher click-through rates. Write a Python function to perform an A/B test analysis, including calculating the t-statistic, degrees of freedom, and p-value.\n",
        "\n",
        "Use the following data:\n",
        "\n",
        "\"\"\"\n",
        "\n",
        "python :-\n",
        "\n",
        "layout_a_clicks = [28, 32, 33, 29, 31, 34, 30, 35, 36, 37]\n",
        "\n",
        "layout_b_clicks = [40, 41, 38, 42, 39, 44, 43, 41, 45, 47]\n",
        "\n",
        "\"\"\""
      ],
      "metadata": {
        "id": "tl-XiQnptNpg"
      }
    },
    {
      "cell_type": "markdown",
      "source": [
        "## Answer :-\n",
        "\n",
        "### To perform an A/B test analysis comparing the click-through rates of two website layouts, you can calculate the t-statistic, degrees of freedom, and p-value."
      ],
      "metadata": {
        "id": "UCjwS-9Gt1gO"
      }
    },
    {
      "cell_type": "code",
      "source": [
        "\"\"\"\n",
        "Preforming an A/B test analysis comparing two layouts using def function.\n",
        "\n",
        "Parameters used : - layout_a: list of clicks for layout A\n",
        "            - layout_b: list of clicks for layout B\n",
        "\n",
        "Returns: - t_stat: float, the t-statistic\n",
        "         - df: int, degrees of freedom\n",
        "         - p_value: float, the p-value\n",
        "\"\"\"\n",
        "\n",
        "\n",
        "def ab_test(layout_a, layout_b):\n",
        "\n",
        "    # Converted layout_a and layout_b to numpy arrays :-\n",
        "    a = np.array(layout_a)\n",
        "    b = np.array(layout_b)\n",
        "\n",
        "\n",
        "\n",
        "    # Calculate means and standard deviations :-\n",
        "    mean_a = np.mean(a)\n",
        "    mean_b = np.mean(b)\n",
        "    std_a = np.std(a, ddof=1)\n",
        "    std_b = np.std(b, ddof=1)\n",
        "\n",
        "\n",
        "\n",
        "    # Sample sizes :-\n",
        "    n_a = len(a)\n",
        "    n_b = len(b)\n",
        "\n",
        "\n",
        "\n",
        "    # Calculate the t-statistic :-\n",
        "    pooled_std = np.sqrt(((n_a - 1) * std_a**2 + (n_b - 1) * std_b**2) / (n_a + n_b - 2))\n",
        "    t_stat = (mean_a - mean_b) / (pooled_std * np.sqrt(1/n_a + 1/n_b))\n",
        "\n",
        "\n",
        "\n",
        "    # Degrees of freedom :-\n",
        "    df = n_a + n_b - 2\n",
        "\n",
        "\n",
        "\n",
        "    # Calculated the p-value for a two-tailed test :-\n",
        "    p_value = 2 * (1 - stats.t.cdf(abs(t_stat), df))\n",
        "\n",
        "    return t_stat, df, p_value\n",
        "\n",
        "\n",
        "\n",
        "# Given sample data :-\n",
        "layout_a_clicks = [28, 32, 33, 29, 31, 34, 30, 35, 36, 37]\n",
        "layout_b_clicks = [40, 41, 38, 42, 39, 44, 43, 41, 45, 47]\n",
        "\n",
        "\n",
        "\n",
        "# Perform A/B test :-\n",
        "t_stat, df, p_value = ab_test(layout_a_clicks, layout_b_clicks)\n",
        "\n",
        "\n",
        "\n",
        "# Show the results :-\n",
        "print(f\"T-statistic: {t_stat:.4f}\")\n",
        "print(f\"Degrees of Freedom: {df}\")\n",
        "print(f\"P-value: {p_value:.4f}\")\n",
        "\n",
        "\n",
        "\n",
        "# Conclusion :-\n",
        "alpha = 0.05\n",
        "if p_value < alpha:\n",
        "    print(\"There is a significant difference between the click-through rates of the two layouts.\")\n",
        "else:\n",
        "    print(\"No significant difference between the click-through rates of the two layouts.\")\n"
      ],
      "metadata": {
        "colab": {
          "base_uri": "https://localhost:8080/"
        },
        "id": "vBQBZsIutHsD",
        "outputId": "ff02bcc1-7194-48f1-de6f-932a252aca21"
      },
      "execution_count": 36,
      "outputs": [
        {
          "output_type": "stream",
          "name": "stdout",
          "text": [
            "T-statistic: -7.2981\n",
            "Degrees of Freedom: 18\n",
            "P-value: 0.0000\n",
            "There is a significant difference between the click-through rates of the two layouts.\n"
          ]
        }
      ]
    },
    {
      "cell_type": "markdown",
      "source": [
        "### Q16 :- A pharmaceutical company wants to determine if a new drug is more effective than an existing drug in reducing cholesterol levels. Create a program to analyze the clinical trial data and calculate the tstatistic and p-value for the treatment effect.\n",
        "\n",
        "Use the following data of cholestrol level:\n",
        "\n",
        "\"\"\"\n",
        "\n",
        "python :-\n",
        "\n",
        "existing_drug_levels = [180, 182, 175, 185, 178, 176, 172, 184, 179, 183]\n",
        "\n",
        "new_drug_levels = [170, 172, 165, 168, 175, 173, 170, 178, 172, 176]\n",
        "\n",
        "\"\"\""
      ],
      "metadata": {
        "id": "bVjE4vvXvLJ-"
      }
    },
    {
      "cell_type": "markdown",
      "source": [
        "## Answer :-\n",
        "\n",
        "### To analyze the clinical trial data comparing the cholesterol levels of patients treated with an existing drug versus a new drug, we can perform a two-sample t-test."
      ],
      "metadata": {
        "id": "PSTaVewzvZw5"
      }
    },
    {
      "cell_type": "code",
      "source": [
        "# Created a def function to analyze drug effect :-\n",
        "\n",
        "def analyze_drug_effect(existing_drug_levels, new_drug_levels):\n",
        "    # Convert lists to numpy arrays for calculations :-\n",
        "    existing = np.array(existing_drug_levels)\n",
        "    new = np.array(new_drug_levels)\n",
        "\n",
        "\n",
        "\n",
        "    # Calculate means and standard deviations :-\n",
        "    mean_existing = np.mean(existing)\n",
        "    mean_new = np.mean(new)\n",
        "    std_existing = np.std(existing, ddof=1)  # Sample standard deviation\n",
        "    std_new = np.std(new, ddof=1)\n",
        "\n",
        "\n",
        "\n",
        "    # Sample sizes :-\n",
        "    n_existing = len(existing)\n",
        "    n_new = len(new)\n",
        "\n",
        "\n",
        "\n",
        "    # Calculate the t-statistic :-\n",
        "    t_stat = (mean_new - mean_existing) / np.sqrt((std_existing**2 / n_existing) + (std_new**2 / n_new))\n",
        "\n",
        "\n",
        "\n",
        "    # Calculate degrees of freedom :-\n",
        "    df = n_existing + n_new - 2\n",
        "\n",
        "\n",
        "\n",
        "    # Calculate the p-value for a two-tailed test :-\n",
        "    p_value = 2 * (1 - stats.t.cdf(abs(t_stat), df))\n",
        "\n",
        "    return t_stat, df, p_value\n",
        "\n",
        "\n",
        "\n",
        "# Cholesterol levels in the given data :-\n",
        "existing_drug_levels = [180, 182, 175, 185, 178, 176, 172, 184, 179, 183]\n",
        "new_drug_levels = [170, 172, 165, 168, 175, 173, 170, 178, 172, 176]\n",
        "\n",
        "\n",
        "\n",
        "# Analyze the drug effect :-\n",
        "t_stat, df, p_value = analyze_drug_effect(existing_drug_levels, new_drug_levels)\n",
        "\n",
        "\n",
        "\n",
        "# Show the results :-\n",
        "print(f\"T-statistic: {t_stat:.4f}\")\n",
        "print(f\"Degrees of Freedom: {df}\")\n",
        "print(f\"P-value: {p_value:.4f}\")\n",
        "\n",
        "\n",
        "\n",
        "# Conclusion :-\n",
        "alpha = 0.05\n",
        "if p_value < alpha:\n",
        "    print(\"The new drug is significantly more effective than the existing drug.\")\n",
        "else:\n",
        "    print(\"No significant difference between the new drug and the existing drug.\")\n"
      ],
      "metadata": {
        "colab": {
          "base_uri": "https://localhost:8080/"
        },
        "id": "iqPz6_kAu7wQ",
        "outputId": "ff45c151-6773-4e24-ff2c-75958beefd0e"
      },
      "execution_count": 38,
      "outputs": [
        {
          "output_type": "stream",
          "name": "stdout",
          "text": [
            "T-statistic: -4.1405\n",
            "Degrees of Freedom: 18\n",
            "P-value: 0.0006\n",
            "The new drug is significantly more effective than the existing drug.\n"
          ]
        }
      ]
    },
    {
      "cell_type": "markdown",
      "source": [
        "### Q17 :- A school district introduces an educational intervention program to improve math scores. Write a Python function to analyze pre- and post-intervention test scores, calculating the t-statistic and p-value to determine if the intervention had a significant impact.\n",
        "\n",
        "Use the following data of test score:\n",
        "\n",
        "\"\"\"\n",
        "\n",
        "python\n",
        "\n",
        "  pre_intervention_scores = [80, 85, 90, 75, 88, 82, 92, 78, 85, 87]\n",
        "\n",
        "  post_intervention_scores = [90, 92, 88, 92, 95, 91, 96, 93, 89, 93]\n",
        "\n",
        "\"\"\""
      ],
      "metadata": {
        "id": "iZVSJSbw5M00"
      }
    },
    {
      "cell_type": "markdown",
      "source": [
        "## Answer :-\n",
        "\n",
        "### To analyze the impact of an educational intervention program on math scores, we can do a paired t-test. This test will compares the pre-intervention and post-intervention scores to determine if there is a significant difference :"
      ],
      "metadata": {
        "id": "qLivFov9_4oJ"
      }
    },
    {
      "cell_type": "code",
      "source": [
        "# Created a def function :-\n",
        "\n",
        "def analyze_intervention_effect(pre_scores, post_scores):\n",
        "    # Convert lists to numpy arrays for calculations\n",
        "    pre = np.array(pre_scores)\n",
        "    post = np.array(post_scores)\n",
        "\n",
        "\n",
        "\n",
        "    # Calculate the differences of post and pre :-\n",
        "    differences = post - pre\n",
        "\n",
        "\n",
        "\n",
        "    # Calculate the mean and standard deviation of the differences :-\n",
        "    mean_diff = np.mean(differences)\n",
        "    std_diff = np.std(differences, ddof=1)\n",
        "    n = len(differences)\n",
        "\n",
        "\n",
        "\n",
        "    # Calculate the t-statistic :-\n",
        "    t_stat = mean_diff / (std_diff / np.sqrt(n))\n",
        "\n",
        "\n",
        "\n",
        "    # Calculate Degrees of freedom :-\n",
        "    df = n - 1\n",
        "\n",
        "\n",
        "\n",
        "    # Calculate the p-value for a two-tailed test :-\n",
        "    p_value = 2 * (1 - stats.t.cdf(abs(t_stat), df))\n",
        "\n",
        "    return t_stat, df, p_value\n",
        "\n",
        "\n",
        "\n",
        "# Test score from the given data :-\n",
        "pre_intervention_scores = [80, 85, 90, 75, 88, 82, 92, 78, 85, 87]\n",
        "post_intervention_scores = [90, 92, 88, 92, 95, 91, 96, 93, 89, 93]\n",
        "\n",
        "\n",
        "\n",
        "# Analyze the intervention effect :-\n",
        "t_stat, df, p_value = analyze_intervention_effect(pre_intervention_scores, post_intervention_scores)\n",
        "\n",
        "\n",
        "\n",
        "# Show the results :-\n",
        "print(f\"T-statistic: {t_stat:.4f}\")\n",
        "print(f\"Degrees of Freedom: {df}\")\n",
        "print(f\"P-value: {p_value:.4f}\")\n",
        "\n",
        "\n",
        "\n",
        "# Conclusion :-\n",
        "alpha = 0.05\n",
        "if p_value < alpha:\n",
        "    print(\"The intervention had a significant impact on math scores.\")\n",
        "else:\n",
        "    print(\"No significant impact of the intervention on math scores.\")\n"
      ],
      "metadata": {
        "colab": {
          "base_uri": "https://localhost:8080/"
        },
        "id": "RhL3zTUgwRAO",
        "outputId": "7f707304-1fdf-4f25-ebaa-9baa03e8c357"
      },
      "execution_count": 39,
      "outputs": [
        {
          "output_type": "stream",
          "name": "stdout",
          "text": [
            "T-statistic: 4.4284\n",
            "Degrees of Freedom: 9\n",
            "P-value: 0.0017\n",
            "The intervention had a significant impact on math scores.\n"
          ]
        }
      ]
    },
    {
      "cell_type": "markdown",
      "source": [
        "### Q18 :- An HR department wants to investigate if there's a gender-based salary gap within the company. Developa program to analyze salary data, calculate the t-statistic, and determine if there's a statistically significant difference between the average salaries of male and female employees.\n",
        "\n",
        "Use the below code to generate synthetic data:\n",
        "\n",
        "\"\"\"\n",
        "\n",
        "python :-\n",
        "\n",
        "### Generate synthetic salary data for male and female employees\n",
        "\n",
        "np.random.seed(0)  # For reproducibility\n",
        "\n",
        "male_salaries = np.random.normal(loc=50000, scale=10000, size=20)\n",
        "\n",
        "female_salaries = np.random.normal(loc=55000, scale=9000, size=20)\n",
        "\n",
        "\"\"\""
      ],
      "metadata": {
        "id": "6ZNzHY32AoP4"
      }
    },
    {
      "cell_type": "markdown",
      "source": [
        "## Answer :-\n",
        "\n",
        "### To investigate if there's a gender-based salary gap within the company, we can perform a two-sample t-test."
      ],
      "metadata": {
        "id": "7hQluy9lBFjP"
      }
    },
    {
      "cell_type": "code",
      "source": [
        "# Created a def function for analyze salary gap of male and female employees :-\n",
        "\n",
        "def analyze_salary_gap(male_salaries, female_salaries):\n",
        "    # Calculate means and standard deviations\n",
        "    mean_male = np.mean(male_salaries)\n",
        "    mean_female = np.mean(female_salaries)\n",
        "    std_male = np.std(male_salaries, ddof=1)  # Sample standard deviation\n",
        "    std_female = np.std(female_salaries, ddof=1)\n",
        "\n",
        "\n",
        "\n",
        "    # Sample sizes :-\n",
        "    n_male = len(male_salaries)\n",
        "    n_female = len(female_salaries)\n",
        "\n",
        "\n",
        "\n",
        "    # Calculate the t-statistic :-\n",
        "    t_stat = (mean_male - mean_female) / np.sqrt((std_male**2 / n_male) + (std_female**2 / n_female))\n",
        "\n",
        "\n",
        "\n",
        "    # Calculate degrees of freedom :-\n",
        "    df = n_male + n_female - 2\n",
        "\n",
        "\n",
        "\n",
        "    # Calculate the p-value for a two-tailed test :-\n",
        "    p_value = 2 * (1 - stats.t.cdf(abs(t_stat), df))\n",
        "\n",
        "    return t_stat, df, p_value\n",
        "\n",
        "\n",
        "\n",
        "# Generate synthetic salary from given data :-\n",
        "np.random.seed(0)\n",
        "male_salaries = np.random.normal(loc=50000, scale=10000, size=20)\n",
        "female_salaries = np.random.normal(loc=55000, scale=9000, size=20)\n",
        "\n",
        "\n",
        "\n",
        "# Analyze the salary gap :-\n",
        "t_stat, df, p_value = analyze_salary_gap(male_salaries, female_salaries)\n",
        "\n",
        "\n",
        "\n",
        "# Show the results :-\n",
        "print(f\"T-statistic: {t_stat:.4f}\")\n",
        "print(f\"Degrees of Freedom: {df}\")\n",
        "print(f\"P-value: {p_value:.4f}\")\n",
        "\n",
        "\n",
        "\n",
        "# Conclusion :-\n",
        "alpha = 0.05\n",
        "if p_value < alpha:\n",
        "    print(\"There is a statistically significant gender-based salary gap.\")\n",
        "else:\n",
        "    print(\"No statistically significant gender-based salary gap.\")\n"
      ],
      "metadata": {
        "colab": {
          "base_uri": "https://localhost:8080/"
        },
        "id": "7ayMcfCKAjZR",
        "outputId": "b462a0f8-415d-4b2f-adc5-f2ad18202964"
      },
      "execution_count": 40,
      "outputs": [
        {
          "output_type": "stream",
          "name": "stdout",
          "text": [
            "T-statistic: 0.0611\n",
            "Degrees of Freedom: 38\n",
            "P-value: 0.9516\n",
            "No statistically significant gender-based salary gap.\n"
          ]
        }
      ]
    },
    {
      "cell_type": "markdown",
      "source": [
        "### Q19 :- A manufacturer produces two different versions of a product and wants to compare their quality scores. Create a Python function to analyze quality assessment data, calculate the t-statistic, and decide whether there's a significant difference in quality between the two versions.\n",
        "\n",
        "Use the following data:\n",
        "\n",
        "\n",
        "\"\"\"\n",
        "\n",
        "python :-\n",
        "\n",
        "version1_scores = [85, 88, 82, 89, 87, 84, 90, 88, 85, 86, 91, 83, 87, 84, 89, 86, 84, 88, 85, 86, 89, 90, 87, 88, 85]\n",
        "\n",
        "version2_scores = [80, 78, 83, 81, 79, 82, 76, 80, 78, 81, 77, 82, 80, 79, 82, 79, 80, 81, 79, 82, 79, 78, 80, 81, 82]\n",
        "\n",
        "\"\"\""
      ],
      "metadata": {
        "id": "jxCA8LkLBr1X"
      }
    },
    {
      "cell_type": "markdown",
      "source": [
        "## Answer :-\n",
        "\n",
        "### To analyze the quality scores of two different versions of a product, we can perform a two-sample t-test.\n",
        "\n",
        "### This will help us determine if there is a significant difference in the quality scores between the two versions."
      ],
      "metadata": {
        "id": "UYPeEE51CtbD"
      }
    },
    {
      "cell_type": "code",
      "source": [
        "# Created a def function for analyzing quality score :-\n",
        "\n",
        "def analyze_quality_scores(version1_scores, version2_scores):\n",
        "    # Calculate means and standard deviations for version1 and version2 :-\n",
        "    mean_version1 = np.mean(version1_scores)\n",
        "    mean_version2 = np.mean(version2_scores)\n",
        "    std_version1 = np.std(version1_scores, ddof=1)  # Sample standard deviation\n",
        "    std_version2 = np.std(version2_scores, ddof=1)\n",
        "\n",
        "\n",
        "\n",
        "    # Length of sample sizes :-\n",
        "    n_version1 = len(version1_scores)\n",
        "    n_version2 = len(version2_scores)\n",
        "\n",
        "\n",
        "\n",
        "    # Calculate the t-statistic :-\n",
        "    t_stat = (mean_version1 - mean_version2) / np.sqrt((std_version1**2 / n_version1) + (std_version2**2 / n_version2))\n",
        "\n",
        "\n",
        "\n",
        "    # Calculate degrees of freedom (dof) :-\n",
        "    df = n_version1 + n_version2 - 2\n",
        "\n",
        "\n",
        "\n",
        "    # Calculate the p-value for a two-tailed test :-\n",
        "    p_value = 2 * (1 - stats.t.cdf(abs(t_stat), df))\n",
        "\n",
        "    return t_stat, df, p_value\n",
        "\n",
        "\n",
        "\n",
        "# Quality assessment from given data :-\n",
        "version1_scores = [85, 88, 82, 89, 87, 84, 90, 88, 85, 86, 91, 83, 87, 84, 89, 86, 84, 88, 85, 86, 89, 90, 87, 88, 85]\n",
        "version2_scores = [80, 78, 83, 81, 79, 82, 76, 80, 78, 81, 77, 82, 80, 79, 82, 79, 80, 81, 79, 82, 79, 78, 80, 81, 82]\n",
        "\n",
        "\n",
        "\n",
        "# Analyze the quality scores :-\n",
        "t_stat, df, p_value = analyze_quality_scores(version1_scores, version2_scores)\n",
        "\n",
        "\n",
        "\n",
        "# Show the results :-\n",
        "print(f\"T-statistic: {t_stat:.4f}\")\n",
        "print(f\"Degrees of Freedom: {df}\")\n",
        "print(f\"P-value: {p_value:.4f}\")\n",
        "\n",
        "\n",
        "\n",
        "# Conclusion :-\n",
        "alpha = 0.05\n",
        "if p_value < alpha:\n",
        "    print(\"There is a significant difference in quality between the two versions.\")\n",
        "else:\n",
        "    print(\"No significant difference in quality between the two versions.\")\n"
      ],
      "metadata": {
        "colab": {
          "base_uri": "https://localhost:8080/"
        },
        "id": "sMmDuNkNBomH",
        "outputId": "dddedfaf-f1fd-419d-ea2a-c54420fc7cd1"
      },
      "execution_count": 41,
      "outputs": [
        {
          "output_type": "stream",
          "name": "stdout",
          "text": [
            "T-statistic: 11.3258\n",
            "Degrees of Freedom: 48\n",
            "P-value: 0.0000\n",
            "There is a significant difference in quality between the two versions.\n"
          ]
        }
      ]
    },
    {
      "cell_type": "markdown",
      "source": [
        "### Q20 :-  A restaurant chain collects customer satisfaction scores for two different branches. Write a program to analyze the scores, calculate the t-statistic, and determine if there's a statistically significant difference in customer satisfaction between the branches.\n",
        "\n",
        "Use the below data of scores:\n",
        "\n",
        "\"\"\"\n",
        "\n",
        "python :-\n",
        "\n",
        "branch_a_scores = [4, 5, 3, 4, 5, 4, 5, 3, 4, 4, 5, 4, 4, 3, 4, 5, 5, 4, 3, 4, 5, 4, 3, 5, 4, 4, 5, 3, 4, 5, 4]\n",
        "\n",
        "branch_b_scores = [3, 4, 2, 3, 4, 3, 4, 2, 3, 3, 4, 3, 3, 2, 3, 4, 4, 3, 2, 3, 4, 3, 2, 4, 3, 3, 4, 2, 3, 4, 3]\n",
        "\n",
        "\"\"\""
      ],
      "metadata": {
        "id": "m0Ysb62QFzsu"
      }
    },
    {
      "cell_type": "markdown",
      "source": [
        "## Answer :-\n",
        "\n",
        "### To analyze customer satisfaction scores from two different branches of a restaurant chain, we can perform a two-sample t-test.\n",
        "\n",
        "### This will help us determine if there is a statistically significant difference in customer satisfaction between the two branches."
      ],
      "metadata": {
        "id": "rZ6vcq7iGFrD"
      }
    },
    {
      "cell_type": "code",
      "source": [
        "# Created def function analyze satisfaction scores :-\n",
        "\n",
        "def analyze_satisfaction_scores(branch_a_scores, branch_b_scores):\n",
        "    # Calculate means and standard deviations for branch_a and branch_b :-\n",
        "    mean_branch_a = np.mean(branch_a_scores)\n",
        "    mean_branch_b = np.mean(branch_b_scores)\n",
        "    std_branch_a = np.std(branch_a_scores, ddof=1)  # Sample standard deviation\n",
        "    std_branch_b = np.std(branch_b_scores, ddof=1)\n",
        "\n",
        "\n",
        "\n",
        "    # Lenght Sample sizes :-\n",
        "    n_branch_a = len(branch_a_scores)\n",
        "    n_branch_b = len(branch_b_scores)\n",
        "\n",
        "\n",
        "\n",
        "    # Calculate the t-statistic :-\n",
        "    t_stat = (mean_branch_a - mean_branch_b) / np.sqrt((std_branch_a**2 / n_branch_a) + (std_branch_b**2 / n_branch_b))\n",
        "\n",
        "\n",
        "\n",
        "    # Calculate degrees of freedom (dof) :-\n",
        "    df = n_branch_a + n_branch_b - 2\n",
        "\n",
        "\n",
        "\n",
        "    # Calculate the p-value for a two-tailed test :-\n",
        "    p_value = 2 * (1 - stats.t.cdf(abs(t_stat), df))\n",
        "\n",
        "    return t_stat, df, p_value\n",
        "\n",
        "\n",
        "\n",
        "# Customer satisfaction scores from given data :-\n",
        "branch_a_scores = [4, 5, 3, 4, 5, 4, 5, 3, 4, 4, 5, 4, 4, 3, 4, 5, 5, 4, 3, 4, 5, 4, 3, 5, 4, 4, 5, 3, 4, 5, 4]\n",
        "branch_b_scores = [3, 4, 2, 3, 4, 3, 4, 2, 3, 3, 4, 3, 3, 2, 3, 4, 4, 3, 2, 3, 4, 3, 2, 4, 3, 3, 4, 2, 3, 4, 3]\n",
        "\n",
        "\n",
        "\n",
        "# Analyze the satisfaction scores :-\n",
        "t_stat, df, p_value = analyze_satisfaction_scores(branch_a_scores, branch_b_scores)\n",
        "\n",
        "\n",
        "\n",
        "# Show the results :-\n",
        "print(f\"T-statistic: {t_stat:.4f}\")\n",
        "print(f\"Degrees of Freedom: {df}\")\n",
        "print(f\"P-value: {p_value:.4f}\")\n",
        "\n",
        "\n",
        "\n",
        "# Conclusion :-\n",
        "alpha = 0.05\n",
        "if p_value < alpha:\n",
        "    print(\"There is a statistically significant difference in customer satisfaction between the two branches.\")\n",
        "else:\n",
        "    print(\"No statistically significant difference in customer satisfaction between the two branches.\")\n"
      ],
      "metadata": {
        "colab": {
          "base_uri": "https://localhost:8080/"
        },
        "id": "GMLTAjdjDgnp",
        "outputId": "72eb1c89-b7c7-4060-8a47-f5be018b7e39"
      },
      "execution_count": 42,
      "outputs": [
        {
          "output_type": "stream",
          "name": "stdout",
          "text": [
            "T-statistic: 5.4801\n",
            "Degrees of Freedom: 60\n",
            "P-value: 0.0000\n",
            "There is a statistically significant difference in customer satisfaction between the two branches.\n"
          ]
        }
      ]
    },
    {
      "cell_type": "markdown",
      "source": [
        "### Q21 :- A political analyst wants to determine if there is a significant association between age groups and voter preferences (Candidate A or Candidate B). They collect data from a sample of 500 voters and classify them into different age groups and candidate preferences. Perform a Chi-Square test to determine if there is a significant association between age groups and voter preferences.\n",
        "\n",
        "Use the below code to generate data:\n",
        "\n",
        "\"\"\"\n",
        "\n",
        "python :-\n",
        "\n",
        "np.random.seed(0)\n",
        "\n",
        "age_groups = np.random.choice([ 18 30 , 31 50 , 51+', 51+'], size=30)\n",
        "\n",
        "voter_preferences = np.random.choice(['Candidate A', 'Candidate B'], size=30)\n",
        "\n",
        "\"\"\""
      ],
      "metadata": {
        "id": "TeOFNuJEHWCE"
      }
    },
    {
      "cell_type": "markdown",
      "source": [
        "## Answer :-\n",
        "\n",
        "### To determine if there is a significant association between age groups and voter preferences using a Chi-Square test, we first need to generate the data and then create a contingency table.\n",
        "\n",
        "### The Chi-Square test will help us analyze whether the distribution of preferences differs significantly across the age groups.\n"
      ],
      "metadata": {
        "id": "TFDJiEQvHxUs"
      }
    },
    {
      "cell_type": "code",
      "source": [
        "# Generated synthetic from given data :-\n",
        "np.random.seed(0)\n",
        "\n",
        "# Define age groups :-\n",
        "age_groups = np.random.choice(['18-30', '31-50', '51+', '51+'], size = 30)\n",
        "\n",
        "\n",
        "# Define voter preferences :-\n",
        "voter_preferences = np.random.choice(['Candidate A', 'Candidate B'], size = 30)\n",
        "\n",
        "\n",
        "# Create a DataFrame and give variable data :-\n",
        "data = pd.DataFrame({'Age Group': age_groups, 'Voter Preference': voter_preferences})\n",
        "\n",
        "\n",
        "\n",
        "# Create a contingency table :-\n",
        "contingency_table = pd.crosstab(data['Age Group'], data['Voter Preference'])\n",
        "\n",
        "\n",
        "\n",
        "# Calculate the Chi-Square test :-\n",
        "chi2_stat, p_value, dof, expected = stats.chi2_contingency(contingency_table)\n",
        "\n",
        "\n",
        "\n",
        "# Show the results :-\n",
        "print(f\"Chi-Square Statistic: {chi2_stat:.4f}\")\n",
        "print(f\"P-value: {p_value:.4f}\")\n",
        "print(f\"Degrees of Freedom: {dof}\")\n",
        "print(\"Expected Frequencies:\")\n",
        "print(expected)\n",
        "\n",
        "\n",
        "\n",
        "# Conclusion :-\n",
        "alpha = 0.05\n",
        "if p_value < alpha:\n",
        "    print(\"There is a significant association between age groups and voter preferences.\")\n",
        "else:\n",
        "    print(\"No significant association between age groups and voter preferences.\")\n"
      ],
      "metadata": {
        "colab": {
          "base_uri": "https://localhost:8080/"
        },
        "id": "3UWx6DB2HSoA",
        "outputId": "806c87cf-ec34-4295-9bff-45977647b3c7"
      },
      "execution_count": 43,
      "outputs": [
        {
          "output_type": "stream",
          "name": "stdout",
          "text": [
            "Chi-Square Statistic: 1.0868\n",
            "P-value: 0.5808\n",
            "Degrees of Freedom: 2\n",
            "Expected Frequencies:\n",
            "[[2.93333333 5.06666667]\n",
            " [2.93333333 5.06666667]\n",
            " [5.13333333 8.86666667]]\n",
            "No significant association between age groups and voter preferences.\n"
          ]
        }
      ]
    },
    {
      "cell_type": "markdown",
      "source": [
        "### Q22 :-  A company conducted a customer satisfaction survey to determine if there is a significant relationship between product satisfaction levels (Satisfied, Neutral, Dissatisfied) and the region where customers are located (East, West, North, South). The survey data is summarized in a contingency table. Conduct a ChiSquare test to determine if there is a significant relationship between product satisfaction levels and customer regions.\n",
        "\n",
        "Sample data:\n",
        "\n",
        "\"\"\"\n",
        "\n",
        "python :-\n",
        "\n",
        "#### Sample data: Product satisfaction levels (rows) vs. Customer regions (columns)\n",
        "\n",
        "data = np.array([[50, 30, 40, 20], [30, 40, 30, 50], [20, 30, 40, 30]])\n",
        "\n",
        "\"\"\""
      ],
      "metadata": {
        "id": "O7c7waZGPbvs"
      }
    },
    {
      "cell_type": "markdown",
      "source": [
        "## Answer :-\n",
        "\n",
        "### To calculate a Chi-Square test to determine if there is a significant relationship between product satisfaction levels and customer regions based on the provided contingency table data :"
      ],
      "metadata": {
        "id": "vt7wZH4bPqpx"
      }
    },
    {
      "cell_type": "code",
      "source": [
        "# Sample given data ----> Product satisfaction levels (rows) vs. Customer regions (columns) :-\n",
        "data = np.array([[50, 30, 40, 20],\n",
        "                 [30, 40, 30, 50],\n",
        "                 [20, 30, 40, 30]])\n",
        "\n",
        "\n",
        "\n",
        "# Calculate the Chi-Square test :-\n",
        "chi2_stat, p_value, dof, expected = stats.chi2_contingency(data)\n",
        "\n",
        "\n",
        "\n",
        "# Show results :-\n",
        "print(\"Chi-Square Statistic:\", chi2_stat)\n",
        "print(\"P-value:\", p_value)\n",
        "print(\"Degrees of Freedom:\", dof)\n",
        "print(\"Expected Frequencies:\\n\", expected)\n",
        "\n",
        "\n",
        "\n",
        "# Conclusion :-\n",
        "if p_value < 0.05:\n",
        "    print(\"There is a significant relationship between product satisfaction levels and customer regions.\")\n",
        "else:\n",
        "    print(\"No significant relationship found.\")\n"
      ],
      "metadata": {
        "colab": {
          "base_uri": "https://localhost:8080/"
        },
        "id": "w-K2X2JPN54R",
        "outputId": "b0946d99-e131-4ef7-b1e9-a0043035cafc"
      },
      "execution_count": 48,
      "outputs": [
        {
          "output_type": "stream",
          "name": "stdout",
          "text": [
            "Chi-Square Statistic: 27.777056277056275\n",
            "P-value: 0.00010349448486004387\n",
            "Degrees of Freedom: 6\n",
            "Expected Frequencies:\n",
            " [[34.14634146 34.14634146 37.56097561 34.14634146]\n",
            " [36.58536585 36.58536585 40.24390244 36.58536585]\n",
            " [29.26829268 29.26829268 32.19512195 29.26829268]]\n",
            "There is a significant relationship between product satisfaction levels and customer regions.\n"
          ]
        }
      ]
    },
    {
      "cell_type": "markdown",
      "source": [
        "### Q23 :- A company implemented an employee training program to improve job performance (Effective, Neutral, Ineffective). After the training, they collected data from a sample of employees and classified them based on their job performance before and after the training. Perform a Chi-Square test to determine if there is a significant difference between job performance levels before and after the training.\n",
        "\n",
        "Sample data:\n",
        "\n",
        "\"\"\"\n",
        "\n",
        "python :-\n",
        "\n",
        "#### Sample data: Job performance levels before (rows) and after (columns) training\n",
        "\n",
        "data = np.array([[50, 30, 20], [30, 40, 30], [20, 30, 40]])\n",
        "\n",
        "\"\"\""
      ],
      "metadata": {
        "id": "1gtLi-e_QihC"
      }
    },
    {
      "cell_type": "markdown",
      "source": [
        "## Answer :-\n",
        "\n",
        "### To determine if there is a significant difference in job performance levels before and after an employee training program using a Chi-Square test :-\n"
      ],
      "metadata": {
        "id": "lYb7cz0eWU6X"
      }
    },
    {
      "cell_type": "code",
      "source": [
        "# Sample data: Job performance levels before (rows) and after (columns) training\n",
        "data = np.array([[50, 30, 20],\n",
        "                 [30, 40, 30],\n",
        "                 [20, 30, 40]])\n",
        "\n",
        "\n",
        "# Performing the Chi-Square test :-\n",
        "chi2_stat, p_value, dof, expected = stats.chi2_contingency(data)\n",
        "\n",
        "\n",
        "\n",
        "# Show results :-\n",
        "print(\"Chi-Square Statistic:\", chi2_stat)\n",
        "print(\"P-value:\", p_value)\n",
        "print(\"Degrees of Freedom:\", dof)\n",
        "print(\"Expected Frequencies:\\n\", expected)\n",
        "\n",
        "\n",
        "\n",
        "# Conclusion :-\n",
        "if p_value < 0.05:\n",
        "    print(\"There is a significant difference in job performance levels before and after training.\")\n",
        "else:\n",
        "    print(\"No significant difference found in job performance levels.\")\n"
      ],
      "metadata": {
        "colab": {
          "base_uri": "https://localhost:8080/"
        },
        "id": "hs1QQNVoQeMf",
        "outputId": "b54aadf1-36d0-4e23-b2c0-cc1626763dff"
      },
      "execution_count": 50,
      "outputs": [
        {
          "output_type": "stream",
          "name": "stdout",
          "text": [
            "Chi-Square Statistic: 22.161728395061726\n",
            "P-value: 0.00018609719479882557\n",
            "Degrees of Freedom: 4\n",
            "Expected Frequencies:\n",
            " [[34.48275862 34.48275862 31.03448276]\n",
            " [34.48275862 34.48275862 31.03448276]\n",
            " [31.03448276 31.03448276 27.93103448]]\n",
            "There is a significant difference in job performance levels before and after training.\n"
          ]
        }
      ]
    },
    {
      "cell_type": "markdown",
      "source": [
        "### Q24 :- A company produces three different versions of a product: Standard, Premium, and Deluxe. The company wants to determine if there is a significant difference in customer satisfaction scores among the three product versions. They conducted a survey and collected customer satisfaction scores for each version from a random sample of customers. Perform an ANOVA test to determine if there is a significant difference in customer satisfaction scores.\n",
        "\n",
        "Use the following data:\n",
        "\n",
        "\"\"\"\n",
        "\n",
        "python :-\n",
        "\n",
        "#### Sample data: Customer satisfaction scores for each product version\n",
        "\n",
        "  standard_scores = [80, 85, 90, 78, 88, 82, 92, 78, 85, 87]\n",
        "\n",
        "  premium_scores = [90, 92, 88, 92, 95, 91, 96, 93, 89, 93]\n",
        "\n",
        "  deluxe_scores = [95, 98, 92, 97, 96, 94, 98, 97, 92, 99]\n",
        "\n",
        "\"\"\""
      ],
      "metadata": {
        "id": "tHA44hGzgyUZ"
      }
    },
    {
      "cell_type": "markdown",
      "source": [
        "## Answer :-\n",
        "\n",
        "\n",
        "### To determine if there is a significant difference in customer satisfaction scores among the three product versions (Standard, Premium, and Deluxe), we can do an ANOVA (Analysis of Variance) test."
      ],
      "metadata": {
        "id": "9UbHaHFLhCHc"
      }
    },
    {
      "cell_type": "code",
      "source": [
        "# Given Sample data: Customer satisfaction scores for each product version\n",
        "standard_scores = [80, 85, 90, 78, 88, 82, 92, 78, 85, 87]\n",
        "premium_scores = [90, 92, 88, 92, 95, 91, 96, 93, 89, 93]\n",
        "deluxe_scores = [95, 98, 92, 97, 96, 94, 98, 97, 92, 99]\n",
        "\n",
        "\n",
        "\n",
        "# Performing ANOVA test :-\n",
        "f_stat, p_value = stats.f_oneway(standard_scores, premium_scores, deluxe_scores)\n",
        "\n",
        "\n",
        "\n",
        "# Show results :-\n",
        "print(\"F-statistic:\", f_stat)\n",
        "print(\"P-value:\", p_value)\n",
        "\n",
        "\n",
        "\n",
        "# Conclusion :-\n",
        "if p_value < 0.05:\n",
        "    print(\"There is a significant difference in customer satisfaction scores among the product versions.\")\n",
        "else:\n",
        "    print(\"No significant difference found in customer satisfaction scores.\")\n"
      ],
      "metadata": {
        "colab": {
          "base_uri": "https://localhost:8080/"
        },
        "id": "fBp4WGFFgYnL",
        "outputId": "9618bcb1-db30-4a4f-b060-47d6913ff488"
      },
      "execution_count": 51,
      "outputs": [
        {
          "output_type": "stream",
          "name": "stdout",
          "text": [
            "F-statistic: 27.03556231003039\n",
            "P-value: 3.5786328857349003e-07\n",
            "There is a significant difference in customer satisfaction scores among the product versions.\n"
          ]
        }
      ]
    },
    {
      "cell_type": "code",
      "source": [],
      "metadata": {
        "id": "exkej5T_hlJL"
      },
      "execution_count": null,
      "outputs": []
    }
  ]
}